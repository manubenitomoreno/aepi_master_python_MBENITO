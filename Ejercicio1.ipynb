{
 "cells": [
  {
   "cell_type": "code",
   "execution_count": 124,
   "metadata": {},
   "outputs": [],
   "source": [
    "palabras = \"Finalizando su viaje al Moratorio de los Amados hermanos Glenn Runciter aterrizó con una imponente limusina eléctrica de alquiler en el techo del edificio cenrtal de Runciter Asociados en Nueva York\""
   ]
  },
  {
   "cell_type": "code",
   "execution_count": 125,
   "metadata": {},
   "outputs": [],
   "source": [
    "def spamificar_palabras(palabras):\n",
    "    for palabra in palabras.split(\" \"):\n",
    "        yield f\"{palabra} spam\""
   ]
  },
  {
   "cell_type": "code",
   "execution_count": 126,
   "metadata": {},
   "outputs": [
    {
     "data": {
      "text/plain": [
       "<generator object spamificar_palabras at 0x00000289F4FFB350>"
      ]
     },
     "execution_count": 126,
     "metadata": {},
     "output_type": "execute_result"
    }
   ],
   "source": [
    "spamificar_palabras(palabras)"
   ]
  },
  {
   "cell_type": "code",
   "execution_count": 127,
   "metadata": {},
   "outputs": [
    {
     "name": "stdout",
     "output_type": "stream",
     "text": [
      "['Finalizando spam', 'su spam', 'viaje spam', 'al spam', 'Moratorio spam', 'de spam', 'los spam', 'Amados spam', 'hermanos spam', 'Glenn spam', 'Runciter spam', 'aterrizó spam', 'con spam', 'una spam', 'imponente spam', 'limusina spam', 'eléctrica spam', 'de spam', 'alquiler spam', 'en spam', 'el spam', 'techo spam', 'del spam', 'edificio spam', 'cenrtal spam', 'de spam', 'Runciter spam', 'Asociados spam', 'en spam', 'Nueva spam', 'York spam']\n"
     ]
    }
   ],
   "source": [
    "print([c for c in spamificar_palabras(palabras)])"
   ]
  },
  {
   "cell_type": "code",
   "execution_count": 128,
   "metadata": {},
   "outputs": [
    {
     "data": {
      "text/plain": [
       "'Finalizando spam su spam viaje spam al spam ham Moratorio spam de spam los spam Amados spam ham hermanos spam Glenn spam ham Runciter spam ham aterrizó spam con spam una spam ham imponente spam ham limusina spam ham eléctrica spam de spam ham alquiler spam en spam el spam techo spam del spam ham edificio spam cenrtal spam de spam ham Runciter spam ham Asociados spam en spam Nueva spam York spam'"
      ]
     },
     "execution_count": 128,
     "metadata": {},
     "output_type": "execute_result"
    }
   ],
   "source": [
    "\" \".join([f\"ham {palabra}\" if 7 < len(palabra.split(\" \")[0]) < 10 else palabra for palabra in list(spamificar_palabras(palabras))])"
   ]
  },
  {
   "cell_type": "code",
   "execution_count": null,
   "metadata": {},
   "outputs": [],
   "source": [
    "def hamificar_palabras(generator_list, original_text):\n",
    "    if len(list(generator_list)) == len(original_text.split(\" \")):\n",
    "        return \" \".join([f\"ham {palabra}\" if 7 < len(palabra.split(\" \")[0]) < 10 else palabra for palabra in generator_list])\n",
    "    else:\n",
    "        print(hamificar_palabras(generator_list))\n",
    "        \n",
    "        "
   ]
  },
  {
   "cell_type": "code",
   "execution_count": null,
   "metadata": {},
   "outputs": [],
   "source": [
    "hamificar_palabras(list(spamificar_palabras(palabras)), palabras)"
   ]
  },
  {
   "cell_type": "code",
   "execution_count": null,
   "metadata": {},
   "outputs": [],
   "source": []
  },
  {
   "cell_type": "code",
   "execution_count": null,
   "metadata": {},
   "outputs": [],
   "source": [
    "[c for c in spamificar_palabras(palabras)]"
   ]
  },
  {
   "attachments": {},
   "cell_type": "markdown",
   "metadata": {},
   "source": [
    "\"\"\"\n",
    "A.  Quieres hacer un juego de cartas sencillo con la baraja de póker.\n",
    "    El jugador 1, escoge una carta. El jugador 2, escoge otra.\n",
    "    Gana quien tiene la carta más alta entendiendo que:\n",
    "i.    No hay jokers\n",
    "ii.   El 2 es la carta más baja\n",
    "iii.  En caso de dos números iguales gana el palo según el orden:\n",
    "      corazones, rombos, flores y picas.\n",
    "\"\"\""
   ]
  },
  {
   "cell_type": "code",
   "execution_count": null,
   "metadata": {},
   "outputs": [],
   "source": [
    "@dataclass\n",
    "class Juego:\n",
    "    jugadores: list\n",
    "    baraja: list = []\n",
    "    numero_jugadores: int = 2 \n",
    "    numero_jugadas:"
   ]
  },
  {
   "cell_type": "code",
   "execution_count": null,
   "metadata": {},
   "outputs": [],
   "source": [
    "LEER ESTO \"https://peps.python.org/pep-3135/\""
   ]
  },
  {
   "cell_type": "code",
   "execution_count": null,
   "metadata": {},
   "outputs": [],
   "source": [
    "quiero entender por que el metodo super ahora else\n",
    "super().__init__()"
   ]
  },
  {
   "cell_type": "code",
   "execution_count": null,
   "metadata": {},
   "outputs": [],
   "source": [
    "es interesante el Clase(metaclass=MetaClaseanimal)"
   ]
  },
  {
   "cell_type": "code",
   "execution_count": null,
   "metadata": {},
   "outputs": [],
   "source": [
    "#guardar en un JSON el resultado de la patida"
   ]
  },
  {
   "cell_type": "code",
   "execution_count": null,
   "metadata": {},
   "outputs": [],
   "source": [
    "#usar el \n",
    "#from dataclasses import dataclasses"
   ]
  },
  {
   "cell_type": "code",
   "execution_count": null,
   "metadata": {},
   "outputs": [],
   "source": [
    "suits_symbols = {'Spades':'♠','Diamonds':'♦','Hearts': '♥','Clubs':'♣'}"
   ]
  },
  {
   "cell_type": "code",
   "execution_count": null,
   "metadata": {},
   "outputs": [],
   "source": [
    "import numpy as np\n",
    "card_values = {n-1:str(n) for n in np.arange(2,11,1)}\n",
    "card_values.update({10:\"Jack\",11:'Queen',12:\"King\",13:'Ace'})\n",
    "suits = ['Spades','Hearts','Diamonds','Clubs']\n",
    "deck_values = {f\"{name} of {suit}\":{'value' :value, 'suit':suit} for value,name in card_values.items() for suit in suits}"
   ]
  },
  {
   "cell_type": "code",
   "execution_count": null,
   "metadata": {},
   "outputs": [],
   "source": [
    "deck_values"
   ]
  },
  {
   "cell_type": "code",
   "execution_count": null,
   "metadata": {},
   "outputs": [],
   "source": [
    "number = 2\n",
    "symbol = '♠'"
   ]
  },
  {
   "cell_type": "code",
   "execution_count": null,
   "metadata": {},
   "outputs": [],
   "source": []
  },
  {
   "cell_type": "code",
   "execution_count": null,
   "metadata": {},
   "outputs": [],
   "source": [
    "print(\"\\n\".join(\n",
    "    [f\"\"\"{number}{'-'*9}\"\"\",\n",
    "    f\"\"\"|{' '*9}|\"\"\",\n",
    "    f\"\"\"|{' '*4}{symbol}{' '*4}|\"\"\",\n",
    "    f\"\"\"|{' '*9}|\"\"\",\n",
    "    f\"\"\"{'-'*9}{number}\"\"\"]))"
   ]
  },
  {
   "cell_type": "code",
   "execution_count": null,
   "metadata": {},
   "outputs": [],
   "source": [
    "f\"\"\"+{' '*4}{symbol}{' '*4}+\"\"\""
   ]
  },
  {
   "cell_type": "code",
   "execution_count": null,
   "metadata": {},
   "outputs": [],
   "source": [
    "f\"\"\"{'+'*9}{number}\"\"\""
   ]
  },
  {
   "cell_type": "code",
   "execution_count": null,
   "metadata": {},
   "outputs": [],
   "source": [
    "number = 2\n",
    "card_string = f\"\"\"{number}{'+'*10}{'\\n'+'+' ' '*10}+\"\"\"\n",
    "print(card_string)"
   ]
  },
  {
   "cell_type": "code",
   "execution_count": null,
   "metadata": {},
   "outputs": [],
   "source": [
    "deck_values"
   ]
  },
  {
   "cell_type": "code",
   "execution_count": null,
   "metadata": {},
   "outputs": [],
   "source": [
    "class Carta:\n",
    "    #meter __slots__ para asegurar que solo tenga lo que le pasamos\n",
    "    def __init__(self, suit, number):\n",
    "        self.suit = suit\n",
    "        self.number = number\n",
    "        \n",
    "    definit el metdo __str__ con un rollo guay\n",
    "        \n",
    "    llamar con tupla nombrada (nombre baraja, numero carta)\n",
    "    con dunder metodos\n",
    "    __eq__, __gt__\n",
    "    al final hacer un __del__ de las instancias"
   ]
  },
  {
   "cell_type": "code",
   "execution_count": null,
   "metadata": {},
   "outputs": [],
   "source": [
    "class Baraja:\n",
    "    conjunto de cartas"
   ]
  },
  {
   "cell_type": "code",
   "execution_count": null,
   "metadata": {},
   "outputs": [],
   "source": [
    "class Jugador:\n",
    "    clase que obtiene cartas y puntuaciones para cada jugada"
   ]
  },
  {
   "cell_type": "code",
   "execution_count": null,
   "metadata": {},
   "outputs": [],
   "source": [
    "class Jugada:\n",
    "    evento en el que se reparte una carta a cada jugador \n",
    "    y se compara para ver quin ha ganado"
   ]
  },
  {
   "cell_type": "code",
   "execution_count": null,
   "metadata": {},
   "outputs": [],
   "source": [
    "class Juego:\n",
    "    prompt \n",
    "    \n",
    "    al final hacer un __del__ de las instancias"
   ]
  }
 ],
 "metadata": {
  "kernelspec": {
   "display_name": "Python 3",
   "language": "python",
   "name": "python3"
  },
  "language_info": {
   "codemirror_mode": {
    "name": "ipython",
    "version": 3
   },
   "file_extension": ".py",
   "mimetype": "text/x-python",
   "name": "python",
   "nbconvert_exporter": "python",
   "pygments_lexer": "ipython3",
   "version": "3.9.12"
  },
  "orig_nbformat": 4
 },
 "nbformat": 4,
 "nbformat_minor": 2
}
