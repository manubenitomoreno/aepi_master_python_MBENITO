{
 "cells": [
  {
   "attachments": {},
   "cell_type": "markdown",
   "metadata": {},
   "source": [
    "# Máster en Python Avanzado por Asociación AEPI"
   ]
  },
  {
   "attachments": {},
   "cell_type": "markdown",
   "metadata": {},
   "source": [
    "## Módulo III"
   ]
  },
  {
   "attachments": {},
   "cell_type": "markdown",
   "metadata": {},
   "source": [
    "### Funciones anónimas\n",
    "\n",
    "Las funciones lambda o anónimas son un tipo de funciones en Python que típicamente se definen en una línea y cuyo código a ejecutar suele ser pequeño.\n",
    "\n",
    "Lo que sería una función que suma dos números como la siguiente.\n",
    "\n"
   ]
  },
  {
   "cell_type": "code",
   "execution_count": null,
   "metadata": {},
   "outputs": [],
   "source": [
    "def suma(a, b):\n",
    "    return a+b\n"
   ]
  },
  {
   "attachments": {},
   "cell_type": "markdown",
   "metadata": {},
   "source": [
    "Se podría expresar en forma de una función lambda de la siguiente manera."
   ]
  },
  {
   "cell_type": "code",
   "execution_count": null,
   "metadata": {},
   "outputs": [],
   "source": [
    "suma = lambda a, b : a + b"
   ]
  },
  {
   "attachments": {},
   "cell_type": "markdown",
   "metadata": {},
   "source": [
    "Una vez tenemos la función, es posible llamarla como si de una función normal se tratase."
   ]
  },
  {
   "cell_type": "code",
   "execution_count": null,
   "metadata": {},
   "outputs": [],
   "source": [
    "suma(2, 4)"
   ]
  },
  {
   "attachments": {},
   "cell_type": "markdown",
   "metadata": {},
   "source": [
    "Si es una función que solo queremos usar una vez, tal vez no tenga sentido almacenarla en una variable. Es posible declarar la función y llamarla en la misma línea."
   ]
  },
  {
   "cell_type": "code",
   "execution_count": null,
   "metadata": {},
   "outputs": [],
   "source": [
    "(lambda a, b: a + b)(2, 4)"
   ]
  },
  {
   "attachments": {},
   "cell_type": "markdown",
   "metadata": {},
   "source": [
    "Ejemplos\n",
    "\n",
    "Una función lambda puede ser la entrada a una función normal.\n"
   ]
  },
  {
   "cell_type": "code",
   "execution_count": null,
   "metadata": {},
   "outputs": [],
   "source": [
    "def mi_funcion(lambda_func):\n",
    "    return lambda_func(2,4)\n",
    "\n",
    "\n",
    "mi_funcion(lambda a, b: a + b)"
   ]
  },
  {
   "attachments": {},
   "cell_type": "markdown",
   "metadata": {},
   "source": [
    "Y una función normal también puede ser la entrada de una función lambda. "
   ]
  },
  {
   "cell_type": "code",
   "execution_count": null,
   "metadata": {},
   "outputs": [],
   "source": [
    "def mi_otra_funcion(a, b):\n",
    "    return a + b\n"
   ]
  },
  {
   "cell_type": "code",
   "execution_count": null,
   "metadata": {},
   "outputs": [],
   "source": [
    "(lambda a, b: mi_otra_funcion(a, b))(2, 4)"
   ]
  },
  {
   "attachments": {},
   "cell_type": "markdown",
   "metadata": {},
   "source": [
    "A pesar de que las funciones lambda tienen muchas limitaciones frente a las funciones normales, comparten gran cantidad de funcionalidades. Es posible tener argumentos con valor asignado por defecto."
   ]
  },
  {
   "cell_type": "code",
   "execution_count": null,
   "metadata": {},
   "outputs": [],
   "source": [
    "(lambda a, b, c=3: a + b + c)(1, 2)"
   ]
  },
  {
   "attachments": {},
   "cell_type": "markdown",
   "metadata": {},
   "source": [
    "También se pueden pasar los parámetros indicando su nombre"
   ]
  },
  {
   "cell_type": "code",
   "execution_count": null,
   "metadata": {},
   "outputs": [],
   "source": [
    "(lambda a, b, c: a + b + c)(a=1, b=2, c=3)"
   ]
  },
  {
   "attachments": {},
   "cell_type": "markdown",
   "metadata": {},
   "source": [
    "Al igual que en las funciones se puede tener un número variable de argumentos haciendo uso de *, lo conocido como tuple unpacking."
   ]
  },
  {
   "cell_type": "code",
   "execution_count": null,
   "metadata": {},
   "outputs": [],
   "source": [
    "(lambda *args: sum(args))(1, 2, 3) "
   ]
  },
  {
   "attachments": {},
   "cell_type": "markdown",
   "metadata": {},
   "source": [
    "Por último, es posible devolver más de un valor."
   ]
  },
  {
   "cell_type": "code",
   "execution_count": null,
   "metadata": {},
   "outputs": [],
   "source": [
    "x = lambda a, b: (b, a)"
   ]
  },
  {
   "attachments": {},
   "cell_type": "markdown",
   "metadata": {},
   "source": [
    "### Built-in filter\n",
    "\n",
    "La función filter() es capaz de devolver una nueva colección con los elementos filtrados que cumplan una condición.\n",
    "\n",
    "Podemos comprobar, por ejemplo, cuales son los números pares de una lista dada. Para ello le pasaremos una lista a una Lambda de la siguiente forma:\n"
   ]
  },
  {
   "cell_type": "code",
   "execution_count": null,
   "metadata": {},
   "outputs": [],
   "source": [
    "# Tengo una lista con muchos números\n",
    "comprobar = [38, 24, 99, 42, 2, 3, 11, 23, 53, 21, 3, 53, 77, 12, 34, 92, 122, 1008, 26]\n",
    "# Creo una variable y le aplico filter() y la lambda\n",
    "filt = filter(lambda x: x % 2 == 0, comprobar)\n",
    "# Creo una variable para convertir el resultado de 'filt' en una lista\n",
    "pares = list(filt)\n",
    "# Finalmente obtengo la lista con los resultados que han devuelto True al pasar el filtro\n",
    "print(pares)"
   ]
  },
  {
   "attachments": {},
   "cell_type": "markdown",
   "metadata": {},
   "source": [
    "### Built-in map\n",
    "\n",
    "La función map() en Python aplica una función a cada uno de los elementos de una lista\n",
    "\n"
   ]
  },
  {
   "cell_type": "code",
   "execution_count": null,
   "metadata": {},
   "outputs": [],
   "source": [
    "# map(una_funcion, una_lista)"
   ]
  },
  {
   "attachments": {},
   "cell_type": "markdown",
   "metadata": {},
   "source": [
    "Imagina que tienes una lista de enteros y quieres obtener una nueva lista con el cuadrado de cada uno de ellos.\n",
    "\n"
   ]
  },
  {
   "cell_type": "code",
   "execution_count": 1,
   "metadata": {},
   "outputs": [],
   "source": [
    "def sin_lambda():\n",
    "    enteros = [1, 2, 4, 7]\n",
    "    cuadrados = []\n",
    "    for e in enteros:\n",
    "        cuadrados.append(e ** 2)\n",
    "\n",
    "    print(cuadrados)\n"
   ]
  },
  {
   "attachments": {},
   "cell_type": "markdown",
   "metadata": {},
   "source": [
    "Sin embargo, podemos usar una función anónima en combinación con map() para obtener el mismo resultado de una manera mucho más simple:"
   ]
  },
  {
   "cell_type": "code",
   "execution_count": null,
   "metadata": {},
   "outputs": [],
   "source": [
    "def con_lambda():\n",
    "    enteros = [1, 2, 4, 7]\n",
    "    cuadrados = list(map(lambda x: x ** 2, enteros))\n",
    "    print(cuadrados)\n"
   ]
  },
  {
   "attachments": {},
   "cell_type": "markdown",
   "metadata": {},
   "source": [
    "La cosa se vuelve todavía más interesante cuando, en lugar de una lista de valores, pasamos como segundo parámetro una lista de funciones:"
   ]
  },
  {
   "cell_type": "code",
   "execution_count": null,
   "metadata": {},
   "outputs": [],
   "source": [
    "def lambda_funciones():\n",
    "    enteros = [1, 2, 4, 7]\n",
    "\n",
    "    def cuadrado(x):\n",
    "        return x ** 2\n",
    "\n",
    "    def cubo(x):\n",
    "        return x ** 3\n",
    "\n",
    "    funciones = [cuadrado, cubo]\n",
    "    for e in enteros:\n",
    "        valores = list(map(lambda x: x(e), funciones))\n",
    "        print(valores)\n"
   ]
  },
  {
   "attachments": {},
   "cell_type": "markdown",
   "metadata": {},
   "source": [
    "### Built-in reduce\n",
    "\n",
    "La última función de esta serie que vamos a ver es la función reduce(). Esta función se utiliza principalmente para llevar a cabo un cálculo acumulativo sobre una lista de valores y devolver el resultado.\n",
    "\n",
    "La función reduce() está incluida en el módulo functools.\n",
    "\n",
    "En este caso, la función que se pasa como primer parámetro recibe dos argumentos.\n",
    "\n",
    "Imagina que quieres obtener el resultado de sumar todos los elementos de una lista.\n",
    "\n",
    "Como en las veces anteriores, la suma la puedes calcular de la siguiente manera:\n"
   ]
  },
  {
   "cell_type": "code",
   "execution_count": null,
   "metadata": {},
   "outputs": [],
   "source": [
    "valores = [2, 4, 6, 5, 4]\n",
    "suma = 0\n",
    "for el in valores:\n",
    "    suma += el\n",
    "print(suma)\n"
   ]
  },
  {
   "attachments": {},
   "cell_type": "markdown",
   "metadata": {},
   "source": [
    "Pero también usando la función reduce() en combinación con una función lambda:"
   ]
  },
  {
   "cell_type": "code",
   "execution_count": null,
   "metadata": {},
   "outputs": [],
   "source": [
    "from functools import reduce\n",
    "suma = reduce(lambda x, y: x + y, valores)\n",
    "print(suma)\n"
   ]
  },
  {
   "attachments": {},
   "cell_type": "markdown",
   "metadata": {},
   "source": [
    "## Módulo 5 - Manipulación de datos\n",
    "\n",
    "### Que és un ORM\n",
    "\n",
    "Un ORM (de sus siglas en inglés, Object Relational Mapper), no es más que una utilidad o librería que permite manipular las tablas de una base de datos como si fueran objetos de nuestro programa.\n",
    "\n",
    "Lo más habitual es que una tabla se corresponda con una clase, cada fila de una tabla con un objeto (o instancia de una clase), las columnas de una tabla con los atributos de una clase y las claves ajenas (o Foreign Keys) con relaciones entre clases (definidas también a partir de atributos).\n",
    "\n",
    "### Ventajas\n",
    "\n",
    "Las principales ventajas de usar un ORM son:\n",
    "\n",
    "•\tAcceder a las tablas y filas de una base de datos como clases y objetos.\n",
    "•\tEn la mayoría de ocasiones no es necesario usar el lenguaje SQL. El ORM se encarga de hacer las traducciones oportunas.\n",
    "•\tIndependencia de la base de datos. Es posible cambiar de motor de base de datos modificando muy poco código en la aplicación.\n",
    "•\tIncrementa la productividad del desarrollador.\n",
    "\n",
    "### SQLAlchemy\n",
    "\n",
    "Como te comentaba en la introducción, SQLAlchemy es una librería para Python que facilita el acceso a una base de datos relacional, así como las operaciones a realizar sobre la misma.\n",
    "\n",
    "Es independiente del motor de base de datos a utilizar, es decir, en principio, es compatible con la mayoría de bases de datos relacionales conocidas: PostgreSQL, MySQL, Oracle, Microsoft SQL Server, Sqlite, …\n",
    "\n",
    "Aunque se puede usar SQLAlchemy utilizando consultas en lenguaje SQL nativo, la principal ventaja de trabajar con esta librería se consigue haciendo uso de su ORM. El ORM de SQLAlchemy mapea tablas a clases Python y convierte automáticamente llamadas a funciones dentro de estas clases a sentencias SQL.\n",
    "\n",
    "Además, SQLAlchemy implementa múltiples patrones de diseño que te permiten desarrollar aplicaciones rápidamente y te abstrae de ciertas tareas, como manejar el pool de conexiones a la base de datos.\n",
    "\n",
    "SQLAlchemy proporciona una interfaz única para comunicarte con los diferentes drivers de bases de datos Python que implementan el estándar Python DBAPI.\n",
    "\n",
    "Este estándar, especifica cómo las librerías Python que se integran con las bases de datos deben exponer sus interfaces. Por tanto, al usar SQLAlchemy no interactuarás directamente con dicho API, sino con la interfaz que precisamente proporciona SQLAlchemy. Esto es lo que permite cambiar el motor de base de datos de una aplicación sin modificar apenas el código que interactúa con los datos. En definitiva, al usar SQLAlchemy es necesario instalar también un driver que implemente la interfaz DBAPI para la base de datos que vayas a utilizar. Ejemplos de estos drivers son:\n",
    "\n",
    "•\tpsycopg para PostgreSQL\n",
    "•\tmysql-connector para MySQL\n",
    "•\tcx_Oracle para Oracle\n",
    "\n",
    "### Como usar SQLAlchemy\n",
    "\n",
    "Necesitamos crear un nuevo proyecto de Python, usando Pycharm y creando un entorno virtual con virtualenv. Al proyecto lo llamaremos EjemploSQLAlchemy. \n",
    "\n",
    "Lo siguiente es crear una base de datos en SQLite en el directorio raíz del proyecto, sin agregar ninguna tabla.\n",
    "\n",
    "A continuación, nos dirigimos a la terminal integrada de Pycharm e instalamos SQLAlchemy:\n"
   ]
  },
  {
   "attachments": {},
   "cell_type": "markdown",
   "metadata": {},
   "source": [
    "```\n",
    "$ pip install sqlalchemy\n",
    "```\n"
   ]
  },
  {
   "attachments": {},
   "cell_type": "markdown",
   "metadata": {},
   "source": [
    "### Crear el Engine\n",
    "\n",
    "Lo primero que hay que hacer para trabajar con SQLAlchemy es crear un engine. El engine es el punto de entrada a la base de datos, es decir, el que permite a SQLAlchemy comunicarse con esta.\n",
    "\n",
    "El motor se usa principalmente para manejar dos elementos: los pools de conexiones y el dialecto a utilizar.\n",
    "\n",
    "Vamos a crear un engine. Para ello, añade un nuevo módulo Python llamado db.py al proyecto, con el siguiente contenido:\n"
   ]
  },
  {
   "cell_type": "code",
   "execution_count": null,
   "metadata": {},
   "outputs": [],
   "source": [
    "from sqlalchemy import create_engine\n",
    "\n",
    "engine = create_engine('sqlite:///almacen.sqlite')\n"
   ]
  },
  {
   "attachments": {},
   "cell_type": "markdown",
   "metadata": {},
   "source": [
    "Como puedes observar, a la función create_engine() se le pasa la cadena de conexión a la base de datos. En este caso, la cadena de conexión a la base de datos Sqlite es 'sqlite:almacen.sqlite'.\n",
    "\n",
    "Crear el engine no hace que la aplicación se conecte a la base de datos inmediatamente, este hecho se pospone para cuando es necesario.\n"
   ]
  },
  {
   "attachments": {},
   "cell_type": "markdown",
   "metadata": {},
   "source": [
    "### Pool de conexiones\n",
    "\n",
    "SQLAlchemy utiliza el patrón Pool de objetos para manejar las conexiones a la base de datos. Esto quiere decir que cuando se usa una conexión a la base de datos, esta ya está creada previamente y es reutilizada por el programa. La principal ventaja de este patrón es que mejora el rendimiento de la aplicación, dado que abrir y gestionar una conexión de base de datos es una operación costosa y que consume muchos recursos.\n",
    "\n",
    "Al crear un engine con la función create_engine(), se genera un pool QueuePool que viene configurado como un pool de 5 conexiones como máximo. Esto se puede modificar en la configuración de SQLAlchemy.\n",
    "\n"
   ]
  },
  {
   "attachments": {},
   "cell_type": "markdown",
   "metadata": {},
   "source": [
    "### Dialectos de base de datos\n",
    "\n",
    "A pesar de que el lenguaje SQL es universal, cada motor de base de datos introduce ciertas variaciones propietarias sobre dicho lenguaje. A esto se le conoce como dialecto.\n",
    "\n",
    "Una de las ventajas de usar SQLAlchemy es que, en principio, no te tienes que preocupar del dialecto a utilizar. El engine configura el dialecto por ti y se encarga de hacer las traducciones necesarias a código SQL. Esta es una de las razones por las que puedes cambiar el motor de base de datos realizando muy pocos cambios en tu código.\n"
   ]
  },
  {
   "attachments": {},
   "cell_type": "markdown",
   "metadata": {},
   "source": [
    "### Sesiones\n",
    "\n",
    "Una vez creado el engine, lo siguiente que debes hacer para trabajar con SQLAlchemy es crear una sesión. Una sesión viene a ser como una transacción, es decir, un conjunto de operaciones de base de datos que, bien se ejecutan todas de forma atómica, bien no se ejecuta ninguna (si ocurre un fallo en alguna de las operaciones).\n",
    "\n",
    "Desde el punto de vista de SQLAlchemy, una sesión registra una lista de objetos creados, modificados o eliminados dentro de una misma transacción, de manera que, cuando se confirma la transacción, se reflejan en base de datos todas las operaciones involucradas (o ninguna si ocurre cualquier error).\n",
    "\n",
    "Vamos a crear una sesión en nuestro proyecto. Abre el fichero db.py y añade lo siguiente:\n"
   ]
  },
  {
   "cell_type": "code",
   "execution_count": null,
   "metadata": {},
   "outputs": [],
   "source": [
    "from sqlalchemy import create_engine\n",
    "from sqlalchemy.orm import sessionmaker\n",
    "\n",
    "engine = create_engine('sqlite:///almacen.sqlite')\n",
    "Session = sessionmaker(bind=engine)\n",
    "session = Session()\n"
   ]
  },
  {
   "attachments": {},
   "cell_type": "markdown",
   "metadata": {},
   "source": [
    "Para crear una sesión se utiliza el método factoría sessionmaker() asociado a un engine. Después de crear la factoría, objeto Session, hay que hacer llamadas a la misma para obtener las sesiones, objeto session."
   ]
  },
  {
   "attachments": {},
   "cell_type": "markdown",
   "metadata": {},
   "source": [
    "### Crear los modelos para trabajar con tablas\n",
    "\n",
    "Llegados a este punto, ya lo tenemos casi todo listo para interactuar con el ORM. Ahora te voy a enseñar donde realmente ocurre la magia: los modelos.\n",
    "\n",
    "Los modelos son las clases que representan las tablas de base de datos. En el ejemplo tenemos la tabla producto, por tanto, dado que estamos usando un ORM, tenemos que crear el modelo (o clase) equivalente a la misma.\n",
    "\n",
    "Para que se pueda realizar el mapeo de forma automática de una clase a una tabla, y viceversa, vamos a utilizar una clase base en los modelos que implementa toda esta lógica.\n",
    "\n",
    "De nuevo, abre el fichero db.py y modifícalo para que su contenido sea como el que te muestro a continuación:\n"
   ]
  },
  {
   "cell_type": "code",
   "execution_count": null,
   "metadata": {},
   "outputs": [],
   "source": [
    "# db.py\n",
    "\n",
    "from sqlalchemy import create_engine\n",
    "from sqlalchemy.ext.declarative import declarative_base\n",
    "from sqlalchemy.orm import sessionmaker\n",
    "\n",
    "engine = create_engine('sqlite:///almacen.sqlite')\n",
    "Session = sessionmaker(bind=engine)\n",
    "session = Session()\n",
    "Base = declarative_base()\n"
   ]
  },
  {
   "attachments": {},
   "cell_type": "markdown",
   "metadata": {},
   "source": [
    "Al final del mismo hemos creado una clase llamada Base con el método declarative_base(). Esta clase será de la que hereden todos los modelos y tiene la capacidad de realizar el mapeo correspondiente a partir de la metainformación (atributos de clase, nombre de la clase, etc.) que encuentre, precisamente, en cada uno de los modelos.\n",
    "\n",
    "Por tanto, lo siguiente que debes hacer es crear el modelo Producto. Crea un nuevo fichero en el directorio del proyecto llamado models.py y añade el código que te muestro a continuación:\n"
   ]
  },
  {
   "cell_type": "code",
   "execution_count": null,
   "metadata": {},
   "outputs": [],
   "source": [
    "# models.py\n",
    "\n",
    "import db\n",
    "from sqlalchemy import Column, Integer, String, Float\n",
    "\n",
    "\n",
    "class Producto(db.Base):\n",
    "    __tablename__ = 'producto'\n",
    "    id = Column(Integer, primary_key=True)\n",
    "    nombre = Column(String, nullable=False)\n",
    "    precio = Column(Float)\n",
    "\n",
    "    def __init__(self, nombre, precio):\n",
    "        self.nombre = nombre\n",
    "        self.precio = precio\n",
    "\n",
    "    def __repr__(self):\n",
    "        return f'Producto({self.nombre}, {self.precio})'\n",
    "\n",
    "    def __str__(self):\n",
    "        return self.nombre\n"
   ]
  },
  {
   "attachments": {},
   "cell_type": "markdown",
   "metadata": {},
   "source": [
    "### Mapeo clase-tabla\n",
    "\n",
    "La clase Producto del código anterior representa la tabla producto que vimos al comienzo del tutorial.\n",
    "\n",
    "Para que se pueda realizar el mapeo automático clase-tabla, la clase hereda de la clase Base que creamos en la sección anterior y que se encuentra en el módulo db.py. Además, hay que especificar el nombre de la tabla a través del atributo de clase __tablename__.\n",
    "\n",
    "Por otro lado, cada una de las columnas de la tabla tienen su correspondiente representación en la clase a través de atributos de tipo Column. En este caso concreto, los atributos son los siguientes:id, nombre y precio.\n",
    "\n",
    "Como puedes observar, SQLAlchemy define distintos tipos de datos para las columnas (Integer, String o Numeric, entre otros). \n",
    "En función del dialecto seleccionado, estos tipos se mapearán al tipo correcto de la base de datos utilizada.\n",
    "\n",
    "Por último, y no menos importante, es necesario que al menos un atributo de la clase se especifique como primary_key. \n",
    "En el ejemplo es el atributo id. Este será el atributo que representa a la clave primaria de la tabla.\n"
   ]
  },
  {
   "attachments": {},
   "cell_type": "markdown",
   "metadata": {},
   "source": [
    "### Recrear las tablas en la base de datos\n",
    "\n",
    "Una vez definidos los modelos, hay que crear las tablas correspondientes.\n",
    "\n",
    "Crea un nuevo fichero Python en el directorio productos llamado main.py. En este fichero será donde escribas el código de ejemplo del programa.\n",
    "\n",
    "Añade lo siguiente al fichero main.py:\n",
    "\n"
   ]
  },
  {
   "cell_type": "code",
   "execution_count": null,
   "metadata": {},
   "outputs": [],
   "source": [
    "# main.py\n",
    "from sqlalchemy import update\n",
    "\n",
    "import db\n",
    "\n",
    "\n",
    "if __name__ == '__main__':\n",
    "    db.Base.metadata.create_all(db.engine)"
   ]
  },
  {
   "attachments": {},
   "cell_type": "markdown",
   "metadata": {},
   "source": [
    "Lo importante en este punto es la línea db.Base.metadata.create_all(db.engine). En ella estamos indicando a SQLAlchemy que cree, si no existen, las tablas de todos los modelos que encuentre en la aplicación. Sin embargo, para que esto ocurra es necesario que cualquier modelo se haya importado previamente antes de llamar a la función create_all().\n",
    "\n",
    "IMPORTANTE: Si un modelo no ha sido importado en el código antes de llamar a la función create_all(), no se tendrá en cuenta para crear su tabla correspondiente.\n",
    "\n",
    "Ejecuta ahora el programa."
   ]
  },
  {
   "attachments": {},
   "cell_type": "markdown",
   "metadata": {},
   "source": [
    "### Guardar un modelo añade un registro a la base de datos\n",
    "\n",
    "Vamos a crear varias filas en la tabla producto. Como te he indicado anteriormente, , una fila de una tabla se corresponde con un objeto Python. Por tanto, para crear una fila debemos instanciar un objeto de la clase Producto, añadirlo a la sesión y finalmente aplicar los cambios."
   ]
  },
  {
   "cell_type": "code",
   "execution_count": null,
   "metadata": {},
   "outputs": [],
   "source": [
    "#main.py\n",
    "\n",
    "import db\n",
    "from models import Producto\n",
    "\n",
    "\n",
    "def run():\n",
    "    arroz = Producto('Arroz', 1.25)\n",
    "    db.session.add(arroz)\n",
    "    print(arroz.id)\n",
    "    agua = Producto('Agua', 0.3)\n",
    "    db.session.add(agua)\n",
    "    db.session.commit()\n",
    "    print(arroz.id)\n",
    "\n",
    "\n",
    "if __name__ == '__main__':\n",
    "    db.Base.metadata.create_all(db.engine)\n",
    "    run()\n"
   ]
  },
  {
   "attachments": {},
   "cell_type": "markdown",
   "metadata": {},
   "source": [
    "Te explico paso a paso el código y lo que ocurre. Inicialmente se crea el objeto arroz de tipo Producto. Seguidamente, se añade a la sesión con db.session.add(arroz). Después se muestra el valor del atributo id que es None, puesto que todavía no se han confirmado los cambios en la base de datos. A continuación, se crea y se añade a la sesión el objeto agua. Por último, se hace un commit() de la sesión actual para confirmar los cambios en la base de datos y se muestra, de nuevo, el valor del atributo id del objeto arroz. En esta ocasión puedes observar que su valor es 1 y que coincide con el valor de la columna id de la primera fila de la tabla producto."
   ]
  },
  {
   "attachments": {},
   "cell_type": "markdown",
   "metadata": {},
   "source": [
    "### Las consultas devuelven modelos\n",
    "\n",
    "Una vez que te he mostrado cómo guardar datos en la base de datos usando el ORM de SQLAlchemy, en esta última parte del tutorial vas a descubrir cómo hacer los principales tipos de consultas.\n",
    "\n",
    "Las consultas a la base de datos se realizan fundamentalmente a través de la función query del objeto session. Esta función recibe como parámetro el nombre de la clase sobre la que realizar las consultas y devuelve un objeto Query con la consulta a realizar.\n",
    "\n",
    "Siguiendo con el ejemplo, para realizar consultas sobre la clase Producto deberíamos ejecutar el siguiente código:\n"
   ]
  },
  {
   "cell_type": "code",
   "execution_count": null,
   "metadata": {},
   "outputs": [],
   "source": [
    "consulta = db.session.query(Producto)\n",
    "\n"
   ]
  },
  {
   "attachments": {},
   "cell_type": "markdown",
   "metadata": {},
   "source": [
    "La variable consulta es de tipo Query pero todavía no se ha ejecutado sobre la base de datos, para ello, debemos indicarle qué operación queremos realizar. Las más comunes son las siguientes:"
   ]
  },
  {
   "attachments": {},
   "cell_type": "markdown",
   "metadata": {},
   "source": [
    "### Obtener un objeto a partir de su id\n"
   ]
  },
  {
   "cell_type": "code",
   "execution_count": null,
   "metadata": {},
   "outputs": [],
   "source": [
    "ob = db.session.query(Producto).get(1)"
   ]
  },
  {
   "attachments": {},
   "cell_type": "markdown",
   "metadata": {},
   "source": [
    "get() devuelve un objeto del tipo indicado en la Query a partir de su primary_key. Si no encuentra el objeto, devuelve None."
   ]
  },
  {
   "attachments": {},
   "cell_type": "markdown",
   "metadata": {},
   "source": [
    "### Obtener los objetos de una consulta"
   ]
  },
  {
   "attachments": {},
   "cell_type": "markdown",
   "metadata": {},
   "source": [
    "Para obtener todos los objetos de un tabla o consulta, simplemente hay que llamar al método all(). Este método devuelve una lista con los objetos devueltos por la consulta:"
   ]
  },
  {
   "cell_type": "code",
   "execution_count": null,
   "metadata": {},
   "outputs": [],
   "source": [
    "productos = db.session.query(Producto).all()"
   ]
  },
  {
   "attachments": {},
   "cell_type": "markdown",
   "metadata": {},
   "source": [
    "También puedes llamar al método first(). First() devuelve el primer objeto encontrado por la consulta. Es útil si sabes que solo existe un elemento que cumpla una determinada condición."
   ]
  },
  {
   "attachments": {},
   "cell_type": "markdown",
   "metadata": {},
   "source": [
    "### Contar el número de elementos devueltos por una consulta\n",
    "\n",
    "Si quieres contar el número de elementos que devuelve una consulta, utiliza el método count():\n"
   ]
  },
  {
   "cell_type": "code",
   "execution_count": null,
   "metadata": {},
   "outputs": [],
   "source": [
    "num_productos = db.session.query(Producto).count()"
   ]
  },
  {
   "attachments": {},
   "cell_type": "markdown",
   "metadata": {},
   "source": [
    "### Aplicar filtros a una consulta\n",
    "\n",
    "Para aplicar un filtro a una consulta, lo que sería la cláusula WHERE de SQL, puedes llamar a los métodos filter_by(keyword) o filter():\n"
   ]
  },
  {
   "cell_type": "code",
   "execution_count": null,
   "metadata": {},
   "outputs": [],
   "source": [
    "agua = db.session.query(Producto).filter_by(nombre='Agua').first()\n",
    "menos_de_1 = db.session.query(Producto).filter(Producto.precio < 1).all()\n"
   ]
  },
  {
   "attachments": {},
   "cell_type": "markdown",
   "metadata": {},
   "source": [
    "### Otras bases de datos: CSV\n",
    "\n",
    "Un archivo CSV (archivo de valores separados por comas) es un tipo de archivo de texto sin formato que utiliza una estructuración específica para organizar datos tabulares. Debido a que es un archivo de texto sin formato, solo puede contener datos de texto reales; en otras palabras, caracteres ASCII o Unicode imprimibles.\n",
    "\n",
    "La estructura de un archivo CSV viene dada por su nombre. Normalmente, los archivos CSV usan una coma para separar cada valor de datos específico. Así es como se ve esa estructura:\n"
   ]
  },
  {
   "attachments": {},
   "cell_type": "markdown",
   "metadata": {},
   "source": [
    "```\n",
    "column 1 name,column 2 name, column 3 name\n",
    "first row data 1,first row data 2,first row data 3\n",
    "second row data 1,second row data 2,second row data 3\n",
    "```\n"
   ]
  },
  {
   "attachments": {},
   "cell_type": "markdown",
   "metadata": {},
   "source": [
    "Observe cómo cada dato está separado por una coma. Normalmente, la primera línea identifica cada dato, en otras palabras, el nombre de una columna de datos. Cada línea subsiguiente después de eso son datos reales y están limitadas solo por restricciones de tamaño de archivo.\n",
    "\n",
    "En general, el carácter separador se denomina delimitador y la coma no es la única que se utiliza. Otros delimitadores populares incluyen los caracteres de tabulación ( \\t), dos puntos ( :) y punto y coma ( ;). Analizar correctamente un archivo CSV requiere que sepamos qué delimitador se está utilizando.\n"
   ]
  },
  {
   "attachments": {},
   "cell_type": "markdown",
   "metadata": {},
   "source": [
    "### Lectura de archivos CSV\n",
    "\n",
    "La lectura de un archivo CSV se realiza utilizando el reader object. El archivo CSV se abre como un archivo de texto con la función open() integrada de Python, que devuelve un objeto de archivo. Esto luego se pasa al reader, que hace el trabajo pesado.\n",
    "\n",
    "\n"
   ]
  },
  {
   "cell_type": "code",
   "execution_count": null,
   "metadata": {},
   "outputs": [],
   "source": [
    "import csv\n",
    "\n",
    "with open('employee_birthday.txt') as csv_file:\n",
    "    csv_reader = csv.reader(csv_file, delimiter=',')\n",
    "    line_count = 0\n",
    "    for row in csv_reader:\n",
    "        if line_count == 0:\n",
    "            print(f'El nombre de las columnas son {\", \".join(row)}')\n",
    "            line_count += 1\n",
    "        else:\n",
    "            print(f'\\t{row[0]} trabaja en el {row[1]} departmento, y nacio en {row[2]}.')\n",
    "            line_count += 1\n",
    "    print(f'Procesadas {line_count} lineas.')"
   ]
  },
  {
   "attachments": {},
   "cell_type": "markdown",
   "metadata": {},
   "source": [
    "### Escribir archivos CSV\n",
    "\n",
    "También puede escribir en un archivo CSV usando un objeto writer y el método write_row():"
   ]
  },
  {
   "cell_type": "code",
   "execution_count": null,
   "metadata": {},
   "outputs": [],
   "source": [
    "def escritura_csv():\n",
    "    with open('employee_birthday.txt', mode='a') as employee_file:\n",
    "        employee_writer = csv.writer(employee_file, lineterminator='\\n' , delimiter=',', quotechar='\"', quoting=csv.QUOTE_MINIMAL)\n",
    "        employee_writer.writerow(['John Smith', 'Accounting', 'November'])\n",
    "        employee_writer.writerow(['Erica Meyers', 'IT', 'March'])\n",
    "\n"
   ]
  },
  {
   "attachments": {},
   "cell_type": "markdown",
   "metadata": {},
   "source": [
    "### Archivos HTML - Parsing\n",
    "\n",
    "La librería de más alto nivel que se verá en este apartado es BeautifulSoup, la cual usa html.parser o lxml como parseadores y permite:\n",
    "\n",
    "•\tInteractuar de forma pythónica con el documento y acceder a los elementos simplemente haciendo uso de getattro (\".\").\n",
    "\n",
    "•\tLa conversión a Unicode o incluso la detección de la codificación de los documentos de forma nativa. \n",
    "\n",
    "•\tLa navegación desde un nodo hacia los nodos padres, hijos y hermanos de forma intuitiva.\n",
    "•\tLa búsqueda en el árbol de forma fácil con diferentes métodos, como expresiones regulares, listas de etiquetas, palabras clave, funciones propias, búsquedas usando clases CSS, búsquedas en el texto de las etiquetas y muchísimas funcionalidades más.\n",
    "\n",
    "•\tBuscar en el documento usando selectores CSS. Crear nodos de forma pythónica con funciones sin hacer un excesivo uso de los diccionarios.\n",
    "\n",
    "•\tTrabajar con ficheros XML y HTML con facilidad. \n",
    "\n",
    "•\tParsear solo partes de un documento.\n",
    "\n",
    "\n"
   ]
  }
 ],
 "metadata": {
  "kernelspec": {
   "display_name": "env",
   "language": "python",
   "name": "python3"
  },
  "language_info": {
   "codemirror_mode": {
    "name": "ipython",
    "version": 3
   },
   "file_extension": ".py",
   "mimetype": "text/x-python",
   "name": "python",
   "nbconvert_exporter": "python",
   "pygments_lexer": "ipython3",
   "version": "3.10.6"
  },
  "orig_nbformat": 4
 },
 "nbformat": 4,
 "nbformat_minor": 2
}
