{
 "cells": [
  {
   "attachments": {},
   "cell_type": "markdown",
   "metadata": {},
   "source": [
    "# Máster en Python Avanzado por Asociación AEPI\n"
   ]
  },
  {
   "attachments": {},
   "cell_type": "markdown",
   "metadata": {},
   "source": [
    "## Módulo I\n",
    "\n",
    "### Orientación a objetos avanzada\n",
    "\n",
    "#### Declaración por prototipo de una clase\n",
    "\n",
    "La programación orientada a objetos por prototipo consiste en crear una clase y, a continuación, asignarle atributos y métodos como se hace, por ejemplo, en JavaScript. Esto es muy diferente a la programación orientada a objetos clásica, puesto que nos contentamos con declarar una clase que es un recipiente vacío con un nombre y, a continuación, se le agregan atributos y métodos.\n",
    "\n",
    "En efecto, en la mayoría de los lenguajes, una vez declarada la clase, es imposible agregar nuevos métodos o atributos. En ocasiones, una permisividad natural permite agregar atributos de manera lateral. No obstante, esto es una limitación importante que hace que la programación orientada a objetos por prototipo encuentre su verdadero lugar. En lo relativo a Python, esto es muy distinto. Por un lado, su lectura extrema del paradigma orientado objetos hace que las propias clases, funciones y métodos sean objetos sobre los que es posible actuar como con cualquier otro objeto. Por otro lado, el hecho de que sea dinámico implica que, en todo momento, sea posible realizar una asignación o una modificación.\n",
    "\n",
    "De este modo, es posible declarar una clase y, a continuación, añadir más tarde un atributo, por agregación. Para comenzar, creemos una clase de manera declarativa, como hemos hecho hasta ahora:\n",
    "\n"
   ]
  },
  {
   "cell_type": "code",
   "execution_count": 1,
   "metadata": {},
   "outputs": [
    {
     "name": "stdout",
     "output_type": "stream",
     "text": [
      "test (Elemento declarativo)\n",
      "test (Elemento prototipo)\n"
     ]
    }
   ],
   "source": [
    "# Forma declarativa\n",
    "\n",
    "class Declarativa(object):\n",
    "    atributo_de_clase = 42\n",
    "\n",
    "    def __init__(self, name):\n",
    "        self.name = name\n",
    "        self.subs = []\n",
    "\n",
    "    def __str__(self):\n",
    "        return \"{} ({})\".format(self.name, \", \".join(self.subs))\n",
    "\n",
    "    def mostrar(self):\n",
    "        print(self)\n",
    "\n",
    "\n",
    "# Usando la clase\n",
    "\n",
    "declarativa = Declarativa(\"test\")\n",
    "declarativa.subs.append(\"Elemento declarativo\")\n",
    "print(declarativa)\n",
    "\n",
    "\n",
    "# Codigo equivalente al anterior, escrito mediante prototipo\n",
    "def proto__init__(self, name):\n",
    "    self.name = name\n",
    "    self.subs = []\n",
    "\n",
    "\n",
    "def proto__str__(self):\n",
    "    return \"{} ({})\".format(self.name, \", \".join(self.subs))\n",
    "\n",
    "\n",
    "Prototipo = type(\"Prototipo\", (object,), {\n",
    "    \"__init__\": proto__init__,\n",
    "    \"__str__\": proto__str__,\n",
    "    \"atributo_de_clase\": 42\n",
    "})\n",
    "\n",
    "\n",
    "# Tambien es posible agregar funciones mas tarde\n",
    "def mostrar(self):\n",
    "    print(self)\n",
    "\n",
    "\n",
    "Prototipo.mostrar = mostrar\n",
    "\n",
    "\n",
    "# El resultado es identico a la forma anterior\n",
    "\n",
    "prototipo = Prototipo(\"test\")\n",
    "prototipo.subs.append(\"Elemento prototipo\")\n",
    "print(prototipo)\n"
   ]
  },
  {
   "cell_type": "code",
   "execution_count": null,
   "metadata": {},
   "outputs": [],
   "source": [
    "# Codigo equivalente al anterior, escrito mediante prototipo\n",
    "def proto__init__(self, name):\n",
    "    self.name = name\n",
    "    self.subs = []\n",
    "\n",
    "\n",
    "def proto__str__(self):\n",
    "    return \"{} ({})\".format(self.name, \", \".join(self.subs))\n",
    "\n",
    "\n",
    "Prototipo = type(\"Prototipo\", (object,), {\n",
    "    \"__init__\": proto__init__,\n",
    "    \"__str__\": proto__str__,\n",
    "    \"atributo_de_clase\": 42\n",
    "})\n",
    "\n",
    "\n",
    "# Tambien es posible agregar funciones mas tarde\n",
    "def mostrar(self):\n",
    "    print(self)\n",
    "\n",
    "\n",
    "Prototipo.mostrar = mostrar\n",
    "\n",
    "\n",
    "# El resultado es identico a la forma anterior\n",
    "\n",
    "prototipo = Prototipo(\"test\")\n",
    "prototipo.subs.append(\"Elemento prototipo\")\n",
    "print(prototipo)\n"
   ]
  },
  {
   "attachments": {},
   "cell_type": "markdown",
   "metadata": {},
   "source": [
    "#### Tuplas con nombre\n",
    "\n",
    "Existen muchos casos de uso en los que se necesita la flexibilidad de un objeto, pero no se desea pasar demasiado tiempo escribiendo una clase. Para ello, existen las tuplas con nombre: "
   ]
  },
  {
   "cell_type": "code",
   "execution_count": 2,
   "metadata": {},
   "outputs": [
    {
     "name": "stdout",
     "output_type": "stream",
     "text": [
      "Punto(x=5, y=6)\n"
     ]
    }
   ],
   "source": [
    "from collections import namedtuple\n",
    "\n",
    "Punto = namedtuple ('Punto', ['x', 'y'])\n",
    "\n",
    "p = Punto(5, 6)\n",
    "print(p)\n"
   ]
  },
  {
   "attachments": {},
   "cell_type": "markdown",
   "metadata": {},
   "source": [
    "Punto es una clase particular que dispone de dos atributos x e y, por lo que puede instanciarse. \n",
    "La ventaja de esta clase reside en las distintas formas de manipularla, sea como una n-tupla o como un diccionario, pero, con esta manera de crearse, se parece bastante a la declaración mediante prototipo.\n"
   ]
  },
  {
   "attachments": {},
   "cell_type": "markdown",
   "metadata": {},
   "source": [
    "#### Métodos mágicos\n",
    "\n",
    "Los métodos mágicos son métodos creados para poder definir protocolos comunes a todas las clases y tipos de datos, tanto del núcleo de Python, como creadas individualmente.\n",
    "\n",
    "Si, por ejemplo, se piensa en cómo están implementadas las operaciones de comparación entre tipos distintos de Python, se podría caer en el error de pensar que existe una especie de algoritmo o de cálculo matemático súper complejo que permite saber cuándo una cadena es mayor que una tupla o cuándo un número es mayor que un diccionario. La realidad, sin embargo, es que todas las clases que pretendan utilizar determinadas operaciones necesitan especificar métodos especiales para poder hacerlo.\n",
    "\n",
    "Por ejemplo, si se crea una clase Planta, la cual guarda el nombre de la planta, el tipo y la altura, y se pretende poder comparar una instancia de Planta con otra, habría que definir el método que pueda hacer esa comparación. Dependiendo del desarrollador se podrían poner nombres dispares como \"igualdad\", \"igual\", \"equality\" o cualquier otro, pero siempre sería necesario usar ese método definido en vez de, por ejemplo, comparar usando el operador ==.\n",
    "\n",
    "Para unificar el protocolo que define que dos objetos son iguales, se estipuló que era necesario implementar en la clase un método especial (también llamado método mágico) que no pudiera colisionar fácilmente con otros métodos y que estuviera conectado con los operadores por defecto. \n",
    "\n",
    "El nombre del método elegido fue eq, y una implementación de la clase Planta sería la siguiente:\n"
   ]
  },
  {
   "cell_type": "code",
   "execution_count": 3,
   "metadata": {},
   "outputs": [
    {
     "name": "stdout",
     "output_type": "stream",
     "text": [
      "True\n",
      "False\n"
     ]
    },
    {
     "ename": "TypeError",
     "evalue": "'>' not supported between instances of 'Planta' and 'Planta'",
     "output_type": "error",
     "traceback": [
      "\u001b[0;31m---------------------------------------------------------------------------\u001b[0m",
      "\u001b[0;31mTypeError\u001b[0m                                 Traceback (most recent call last)",
      "Cell \u001b[0;32mIn[3], line 19\u001b[0m\n\u001b[1;32m     17\u001b[0m \u001b[39mprint\u001b[39m(camelia \u001b[39m==\u001b[39m celindo)\n\u001b[1;32m     18\u001b[0m \u001b[39mprint\u001b[39m(camelia \u001b[39m==\u001b[39m pino)\n\u001b[0;32m---> 19\u001b[0m \u001b[39mprint\u001b[39m(camelia \u001b[39m>\u001b[39;49m celindo)\n",
      "\u001b[0;31mTypeError\u001b[0m: '>' not supported between instances of 'Planta' and 'Planta'"
     ]
    }
   ],
   "source": [
    "class Planta:\n",
    "\n",
    "    def __init__(self, nombre, tipo, altura):\n",
    "        self.nombre = nombre\n",
    "        self.tipo = tipo\n",
    "        self.altura = altura\n",
    "\n",
    "    def __eq__(self, otra_planta):\n",
    "        return self.tipo == otra_planta\n",
    "\n",
    "\n",
    "camelia = Planta('Camelia', 'Arbusto', 2)\n",
    "celindo = Planta('Celindo', 'Arbusto', 5)\n",
    "pino = Planta('Pino', 'Arbol', 5)\n",
    "\n",
    "\n",
    "print(camelia == celindo)\n",
    "print(camelia == pino)\n",
    "print(camelia > celindo)\n"
   ]
  },
  {
   "attachments": {},
   "cell_type": "markdown",
   "metadata": {},
   "source": [
    "Como se puede ver en el ejemplo, solo con implementar el método eq se pueden comparar dos plantas perfectamente. No obstante, al intentar comprobar si una planta es mayor que otra, se eleva una excepción porque ese protocolo no está implementado. Se puede implementar fácilmente añadiendo algunas líneas más a la definición de la clase, como sigue:"
   ]
  },
  {
   "cell_type": "code",
   "execution_count": 4,
   "metadata": {},
   "outputs": [
    {
     "name": "stdout",
     "output_type": "stream",
     "text": [
      "True\n",
      "False\n",
      "False\n"
     ]
    }
   ],
   "source": [
    "class Planta:\n",
    "\n",
    "    def __init__(self, nombre, tipo, altura):\n",
    "        self.nombre = nombre\n",
    "        self.tipo = tipo\n",
    "        self.altura = altura\n",
    "\n",
    "    def __eq__(self, otra_planta):\n",
    "        return self.tipo == otra_planta.tipo\n",
    "\n",
    "    def __gt__(self, otra_planta):\n",
    "        return self.altura > otra_planta.altura\n",
    "\n",
    "    def __ge__(self, otra_planta):\n",
    "        return self.altura > - otra_planta.altura\n",
    "\n",
    "\n",
    "camelia = Planta('Camelia', 'Arbusto', 2)\n",
    "celindo = Planta('Celindo', 'Arbusto', 5)\n",
    "pino = Planta('Pino', 'Arbol', 5)\n",
    "\n",
    "print(camelia == celindo)\n",
    "print(camelia == pino)\n",
    "print(camelia > celindo)\n"
   ]
  },
  {
   "attachments": {},
   "cell_type": "markdown",
   "metadata": {},
   "source": [
    "Al implementar gt se pueden utilizar los operadores \"mayor que\" y \"menor que\" (> y <), y al implementar el método ge se pueden utilizar los operadores \"mayor o igual que\" y \"menor o igual que\" (>= y <=), pero existen multitud de protocolos que son controlados por los métodos mágicos, como se puede ver a continuación. Todos se caracterizan por estar rodeados por un doble carácter de barra baja ('__') para que cuando se haga uso del Name Mangling, estos métodos no puedan colisionar fácilmente con otros definidos por los usuarios.\n",
    "\n",
    "\\_\\_eq\\_\\_(self, otro_obj): permite hacer la comparación de igualdad entre la instancia self y otro_obj. Ejemplo: self == otro_obj\n",
    "\n",
    "\\_\\_ne\\_\\_(self, otro_obj): permite hacer la comparación de des-igualdad entre la instancia self y otro_obj. Ejemplo: self ¡= otro_obj.\n",
    "\n",
    "\\_\\_lt\\_\\_(self, otro_obj): permite hacer la comparación de \"menor que\" (lower than) entre la instancia self y otro_obj. Ejemplo: self < otro_obj.\n",
    "\n",
    "\\_\\_gt\\_\\_(self, otro_obj): permite hacer la comparación de \"mayor que\" (greater than) entre la instancia self y otro_obj. Ejemplo: self > otro_obj. \n",
    "\n",
    "\\_\\_le\\_\\_(self, otro_obj): permite hacer la comparación de \"menor o igual que\" (lower or equal to) entre la instancia self y otro_obj. Ejemplo: self <= otro_obj.\n",
    "\n",
    "\\_\\_ge\\_\\_(self, otro_obj): permite hacer la comparación de \"mayor o igual que\" (greater or equal to) entre la instancia self y otro_obj. Ejemplo: self >= otro_obj. \n",
    "\n",
    "Los métodos mágicos anteriores se aplican a operaciones de comparación. Cabe destacar que para las operaciones análogas (igualdad y desigualdad, menor y mayor, etc.) basta con implementar una de las dos para tener soporte para ambas operaciones de comparación.\n",
    "\n",
    "El conjunto de operaciones básicas que hay que construir para una clase es más amplio e incluye poder implementar los siguientes métodos:\n",
    "\n",
    "def \\_\\_new\\_\\_(cls, *args, **kwargs): es el constructor de la clase y se encarga de generar instancias nuevas de la misma. \n",
    "\n",
    "def \\_\\_init\\_\\_(self, *args, **kwargs): es el método para inicializar las clases y es llamado justo después de new. Junto con ese otro método forma la creación inicial de todas las clases. \n",
    "\n",
    "def \\_\\_del\\_\\_(self): este método es llamado cuando se va a eliminar una instancia.\n",
    "\n",
    "def \\_\\_repr\\_\\_(self): este método es llamado cuando se hace uso de la función repr () y es la representación \"oficial\" o interna del objeto. Si no está definida la versión \"informal\", \\_\\_str\\_\\_, se utiliza \\_\\_repr\\_\\_. La implementación de este método es muy importante, dado que ayuda muchísimo en las tareas de depuración de errores. \n",
    "\n",
    "Por lo tanto, debe proveer información rica en detalles que ayude a representar a los objetos de forma inequívoca. \n",
    "\n",
    "def \\_\\_str\\_\\_(self): este método es llamado por las funciones str (), print () y format () para computar la forma \"informal\" del objeto, la que normalmente se presenta de forma bonita al usuario.\n",
    "\n",
    "def \\_\\_bytes\\_\\_(self): este método es utilizado por la función bytes (), la cual espera que se devuelva un objeto de tipo byte con la representación binaria de la instancia.\n",
    "\n",
    "def \\_\\_format\\_\\_(self, format_spec): este método es llamado al invocar la función del sistema format () y, por extensión, en la evaluación de los literales formateados. El segundo parámetro es una cadena de caracteres con la descripción de las opciones de formatea do deseadas.\n",
    "\n",
    "def \\_\\_hash\\_\\_(self): este método es usado por la función hash(), pero también es utilizado por cualquier objeto que contenga objetos que puedan ser hasheados, como los elementos de un conjunto o las claves de un diccionario. Si un objeto no define el método \\_\\_eq\\_\\_ no debe implementar tampoco este método.\n",
    "\n",
    "def \\_\\_bool\\_\\_(self): este método es utilizado para comprobar la veracidad del objeto en expresiones y al usar la función del sistema bool(). Si no se implementa este método ni el método \\_\\_len\\_\\_, se considerará que la veracidad del objeto es True, dado que es el valor por defecto.\n"
   ]
  },
  {
   "attachments": {},
   "cell_type": "markdown",
   "metadata": {},
   "source": [
    "#### El atributo slots\n",
    "\n",
    "Por defecto, en Python todos los atributos de una clase y de las instancias se guardan dentro de las variables \\_\\_dict\\_\\_ o \\_\\_weakref\\_\\_, pero existe un método con el que se pueden controlar los atributos que deben ser guardados (o no). Asimismo, ese mismo método define qué atributos son accesibles desde el exterior. El método consiste en usar \\_\\_slots\\_\\_. La definición de slots se hace a nivel de clase y puede contener una cadena de caracteres, un iterable o una secuencia de cadenas de caracteres con los nombres de los atributos usados por las instancias. Al definir slots se reserva espacio para las variables y se previene la creación automática de \\_\\_dict\\_\\_ o \\_\\_weakref\\_\\_, además de bloquear la creación de nuevos atributos dinámicamente.\n",
    "\n",
    "A continuación, se puede ver un ejemplo de cómo se definen y los usos habituales:\n"
   ]
  },
  {
   "cell_type": "code",
   "execution_count": 6,
   "metadata": {},
   "outputs": [
    {
     "name": "stdout",
     "output_type": "stream",
     "text": [
      "1\n",
      "3\n"
     ]
    },
    {
     "ename": "AttributeError",
     "evalue": "'Punto3D' object has no attribute 'nuevo_atributo'",
     "output_type": "error",
     "traceback": [
      "\u001b[0;31m---------------------------------------------------------------------------\u001b[0m",
      "\u001b[0;31mAttributeError\u001b[0m                            Traceback (most recent call last)",
      "Cell \u001b[0;32mIn[6], line 18\u001b[0m\n\u001b[1;32m     16\u001b[0m \u001b[39mprint\u001b[39m(p\u001b[39m.\u001b[39mz)\n\u001b[1;32m     17\u001b[0m \u001b[39m#print(p.__dict__)\u001b[39;00m\n\u001b[0;32m---> 18\u001b[0m p\u001b[39m.\u001b[39;49mnuevo_atributo \u001b[39m=\u001b[39m \u001b[39m4\u001b[39m\n",
      "\u001b[0;31mAttributeError\u001b[0m: 'Punto3D' object has no attribute 'nuevo_atributo'"
     ]
    }
   ],
   "source": [
    "\"\"\"Ejemplo de una clase haciendo uso de __slots__\"\"\"\n",
    "\n",
    "\n",
    "class Punto3D:\n",
    "    __slots__ = ['x', 'y', 'z']\n",
    "\n",
    "    def __init__(self, x, y, z):\n",
    "        self.x = x\n",
    "        self.y = y\n",
    "        self.z = z\n",
    "\n",
    "\n",
    "if __name__ == '__main__':\n",
    "    p = Punto3D(1, 2, 3)\n",
    "    print(p.x)\n",
    "    print(p.z)\n",
    "    #print(p.__dict__)\n",
    "    p.nuevo_atributo = 4\n"
   ]
  },
  {
   "attachments": {},
   "cell_type": "markdown",
   "metadata": {},
   "source": [
    "Podemos observar como la ejecución de este código nos genera el siguiente error:\n",
    "\n",
    "```\n",
    "Traceback (most recent call last):\n",
    "File \"/clase_usando__slots__.py\", line 17, in <module> print(p.__dict__)\n",
    "\n",
    "AttributeError: 'Punto3D' object has no attribute '__dict__'\n",
    "```"
   ]
  },
  {
   "attachments": {},
   "cell_type": "markdown",
   "metadata": {},
   "source": [
    "Como se puede ver en el ejemplo, si \\_\\_slots\\_\\_ está presente en la clase, no se genera la variable \\_\\_dict\\_\\_, lo que permite ahorrar un espacio que en muchas ocasiones puede ser muy significativo. Además, previene que no se añadan nuevos atributos dinámicamente. A continuación, se mencionan todas las características del uso de \\_\\_slots\\_\\_:\n",
    "\n",
    "El uso de slots se hace a nivel de clase, por lo que todas las instancias comparten los mismos.\n",
    "\n",
    "Usando \\_\\_slots\\_\\_ se pierde el acceso a \\_\\_dict\\_\\_, por tanto, la asignación de valores a atributos fuera de los listados en \\_\\_slots\\_\\_ elevará una excepción del tipo AttributeError. Si se pretende permitir la creación de atributos dinámicos, '\\_\\_dict\\_\\_ debe estar listada en \\_\\_slots\\_\\_.\n",
    "\n",
    "Al definir \\_\\_slots\\_\\_ se pierde el soporte para usar referencias débiles a la instancia, dado que no se define \\_\\_weakref\\_\\_. Sin embargo, como ocurre con \\_\\_dict\\_\\_, si se pretende permitir ese uso, se debe incluir '\\_\\_weakref\\_\\_ ' en la lista de \\_\\_slots\\_\\_\n",
    "\n",
    "Cuando la clase padre define \\_\\_slots\\_\\_, serán visibles por defecto para todas las clases hijo, y en estas se crean \\_\\_dict\\_\\_ y \\_\\_weakref\\_\\_ a no ser que también definan los \\_\\_slots\\_\\_ disponibles.\n",
    "\n",
    "Si una clase comparte un nombre en su listado de \\_\\_slots\\_\\_ con alguna de sus clases padre, la variable en la clase padre será inaccesible. \n",
    "\n",
    "Si se utiliza herencia múltiple, solo una clase padre podrá tener elementos en su variable \\_\\_slots\\_\\_ . Las demás deberán no tenerlo o tenerlo vacío, de lo contrario, se elevará una excepción del tipo TypeError.\n",
    "\n",
    "Los \\_\\_slots\\_\\_ son implementados a nivel de clase, y se crean descriptores para cada nombre de variables. Por tanto, no se pueden dar valores por defecto a los atributos de clase.\n",
    "\n",
    "El uso de \\_\\_slots\\_\\_ es una herramienta muy potente que permite ahorrar mucho espacio y aumentar el control del acceso a los atributos. Sirven para establecer qué atributos pueden ser modificados y accedidos desde el exterior de una instancia.\n"
   ]
  },
  {
   "attachments": {},
   "cell_type": "markdown",
   "metadata": {},
   "source": [
    "### Dataclasses\n",
    "\n",
    "En multitud de ocasiones se crean clases para guardar información y no para manejarla. En Python 3.7 se introdujo un nuevo módulo denominado dataclasses, que contiene un decorador llamado dataclass, que ayuda a crear clases simples cuyo principal objetivo es guardar datos. Gracias a las anotaciones de tipado, este decorador se convierte en una herramienta muy útil para evitar código duplicado.\n",
    "\n",
    "Si se pretende crear una clase que represente números de coma flotante, habría que, como mínimo, hacer una clase tan grande como la siguiente:\n"
   ]
  },
  {
   "cell_type": "code",
   "execution_count": null,
   "metadata": {},
   "outputs": [],
   "source": [
    "class MiNumero:\n",
    "    def __init__(self, valor=0.0):\n",
    "        self.valor = valor\n",
    "\n",
    "    def __eq__(self, other):\n",
    "        if other.__class__ is self.__class__:\n",
    "            return self.valor == other.valor\n",
    "        return NotImplemented\n",
    "\n",
    "    def __gt__(self, other):\n",
    "        if other.__class__ is self.__class__:\n",
    "            return self.valor > other.valor\n",
    "        return NotImplemented\n",
    "\n",
    "    def __repr__(self):\n",
    "        return f'MiNumero({self.valor})'\n"
   ]
  },
  {
   "attachments": {},
   "cell_type": "markdown",
   "metadata": {},
   "source": [
    "Sin embargo, gracias al uso de dataclasses se podría reducir a esto:"
   ]
  },
  {
   "cell_type": "code",
   "execution_count": null,
   "metadata": {},
   "outputs": [],
   "source": [
    "from dataclasses import dataclass\n",
    "\n",
    "@dataclass(order=True)\n",
    "class MiNumero:\n",
    "    valor: float = 0\n"
   ]
  },
  {
   "attachments": {},
   "cell_type": "markdown",
   "metadata": {},
   "source": [
    "En una clase de datos se generan automáticamente algunos métodos especiales para clases simples. Los nombres de estos métodos, también llamados métodos mágicos, comienzan y finalizan con un doble subrayado como \\_\\_init\\_\\_(), \\_\\_repr\\_\\_(), \\_\\_eq\\_\\_(), entre otros. Como es sabido el método \\_\\_init\\_\\_() se utiliza en una clase para inicializar un objeto y se invoca sin hacer una llamada específica, simplemente, cuando se instancia una clase. De ahí, que se le conozca como método constructor.\n",
    "\n",
    "De modo que escribir una clase como la del siguiente ejemplo era lo normal hasta hace muy poco. En este caso la acción de instanciar la clase para crear un objeto lleva implícita la llamada al método \\_\\_init\\_\\_() que efectúa las asignaciones de nombre, altura y peso. Por ello, cuando se imprime la altura se obtiene el valor asignado sin que sea necesario hacer nada más:\n"
   ]
  },
  {
   "cell_type": "code",
   "execution_count": 7,
   "metadata": {},
   "outputs": [
    {
     "name": "stdout",
     "output_type": "stream",
     "text": [
      "1.81\n"
     ]
    }
   ],
   "source": [
    "class Deportista:\n",
    "    def __init__(self, nombre, altura, peso):\n",
    "        self.nombre = nombre\n",
    "        self.altura = altura\n",
    "        self.peso = peso\n",
    "\n",
    "\n",
    "deportista1 = Deportista('Elena', 1.81, 64)\n",
    "print(deportista1.altura)  # 1.81\n"
   ]
  },
  {
   "attachments": {},
   "cell_type": "markdown",
   "metadata": {},
   "source": [
    "Bien, la nueva característica que comentamos permite ahora escribir la clase anterior de forma más simplificada y clara:"
   ]
  },
  {
   "cell_type": "code",
   "execution_count": 8,
   "metadata": {},
   "outputs": [
    {
     "name": "stdout",
     "output_type": "stream",
     "text": [
      "1.81\n"
     ]
    }
   ],
   "source": [
    "from dataclasses import dataclass\n",
    "\n",
    "@dataclass\n",
    "class Deportista:\n",
    "    nombre: str\n",
    "    altura: float\n",
    "    peso: float\n",
    "\n",
    "deportista1 = Deportista('Elena', 1.81, 64)\n",
    "print(deportista1.altura)  # 1.81\n"
   ]
  },
  {
   "attachments": {},
   "cell_type": "markdown",
   "metadata": {},
   "source": [
    "Como puede observarse a la clase Deportista le precede el decorador dataclass y no tiene definido el método \\_\\_init\\_\\_()."
   ]
  },
  {
   "attachments": {},
   "cell_type": "markdown",
   "metadata": {},
   "source": [
    "\n",
    "Una de las funciones del decorador es localizar las variables de clase que llevan anotaciones de tipos para conocer los campos que tiene la clase de datos. Después, con respecto al modo de instanciar la clase no se advierte ningún cambio con respecto al uso habitual\n"
   ]
  },
  {
   "attachments": {},
   "cell_type": "markdown",
   "metadata": {},
   "source": [
    "__Los métodos de dataclass__\n",
    "\n",
    "La magia obviamente está en el decorador de clase que ayuda a reducir el código porque no solo genera el método \\_\\_init\\_\\_(), también hace lo propio con los métodos \\_\\_str\\_\\_(), \\_\\_repr\\_\\_() y, opcionalmente, con algunos métodos más.\n",
    "\n",
    "\n",
    "\n",
    "Y sabemos que el decorador genera el método \\_\\_str\\_\\_() (que devuelve una cadena con una representación legible de los datos) porque es llamado cuando se imprime el objeto o cuando se hace uso de la función str():\n",
    "\n"
   ]
  },
  {
   "cell_type": "code",
   "execution_count": 9,
   "metadata": {},
   "outputs": [
    {
     "name": "stdout",
     "output_type": "stream",
     "text": [
      "1.81\n",
      "Deportista(nombre='Elena', altura=1.81, peso=64)\n",
      "Deportista(nombre='Elena', altura=1.81, peso=64)\n"
     ]
    }
   ],
   "source": [
    "deportista1 = Deportista('Elena', 1.81, 64)\n",
    "print(deportista1.altura)  # 1.81\n",
    "\n",
    "print(deportista1)  # Deportista(nombre='Elena', altura=1.81, peso=64)\n",
    "\n",
    "atleta = str(deportista1)\n",
    "print(atleta)  # Deportista(nombre='Elena', altura=1.81, peso=64)\n",
    "\n"
   ]
  },
  {
   "attachments": {},
   "cell_type": "markdown",
   "metadata": {},
   "source": [
    "Algunos de estos métodos también pueden reescribirse dentro de la clase para modificar su comportamiento predeterminado. En el ejemplo siguiente el método \\_\\_str\\_\\_() se ha reescrito y devuelve una cadena con el siguiente formato: 'nombre: altura, peso'"
   ]
  },
  {
   "cell_type": "code",
   "execution_count": null,
   "metadata": {},
   "outputs": [],
   "source": [
    "from dataclasses import dataclass\n",
    "\n",
    "@dataclass\n",
    "class Deportista:\n",
    "    nombre: str\n",
    "    altura: float\n",
    "    peso: float\n",
    "\n",
    "    def __str__(self) -> str:\n",
    "        return f'{self.nombre}: {self.altura}, {self.peso}'\n",
    "\n",
    "\n",
    "deportista1 = Deportista('Elena', 1.81, 64)\n",
    "print(str(deportista1))  # Elena: 1.81, 64\n"
   ]
  },
  {
   "attachments": {},
   "cell_type": "markdown",
   "metadata": {},
   "source": [
    "__Los parámetros de dataclass__\n",
    "\n",
    "El decorador dataclass cuenta también con varios parámetros para ajustar su funcionamiento:\n",
    "\n",
    "```\n",
    "@dataclass(init=True, repr=True, eq=True, order=False, unsafe_hash=False, frozen=False)\n",
    "```\n",
    "\n",
    "•\tinit, repr y eq: Por defecto estos parámetros tienen el valor True para que el decorador genere los métodos \\_\\_init\\_\\_(), \\_\\_repr\\_\\_() y \\_\\_eq\\_\\_(), respectivamente, aunque si la clase los redefine serán ignorados.\n",
    "•\torder: Por defecto tiene el valor False pero si se establece a True el decorador generará los métodos especiales \\_\\_gt\\_\\_(), \\_\\_ge\\_\\_(), \\_\\_lt\\_\\_() y \\_\\_le\\_\\_(). En este caso no se permite la reescritura, por lo que si la clase redefine alguno de ellos se producirá una excepción.\n",
    "•\tunsafe_hash: Por defecto tiene el valor False y en este caso el decorador generará el método \\_\\_hash\\_\\_() de acuerdo a la configuración que tengan los parámetros eq y frozen.\n",
    "•\tfrozen: Por defecto tiene el valor False pero si se establece a True cualquier intento de asignación a los campos producirá una excepción.\n",
    "\n",
    "En el siguiente ejemplo se establece el parámetro order con el valor True para que el decorador dataclass genere los métodos \\_\\_gt\\_\\_(), \\_\\_ge\\_\\_(), \\_\\_lt\\_\\_() y \\_\\_le\\_\\_() que se corresponden con las comparaciones \"mayor que\", \"mayor o igual que\", \"menor que\" y \"menor o igual que\", respectivamente.\n",
    "\n",
    "Las variables de clase son inicializadas cuando los objetos se crean omitiendo dichos valores. En este ejemplo se crean tres objetos asignando un valor al campo peso para realizar comparaciones y conocer si el valor del campo en un objeto es \"mayor que\" en otro. Y sabemos que el método \\_\\_gt\\_\\_() se ha generado porque es llamado cuando se comparan los objetos con el operador \">\":\n"
   ]
  },
  {
   "cell_type": "code",
   "execution_count": 11,
   "metadata": {},
   "outputs": [
    {
     "name": "stdout",
     "output_type": "stream",
     "text": [
      "True\n",
      "False\n"
     ]
    }
   ],
   "source": [
    "from dataclasses import dataclass\n",
    "\n",
    "@dataclass(order=True)\n",
    "class Deportista:\n",
    "    nombre: str = 'Desconocido'\n",
    "    altura: float = 0\n",
    "    peso: float = 0\n",
    "\n",
    "deportista1 = Deportista(peso=64)\n",
    "deportista2 = Deportista(peso=62)\n",
    "deportista3 = Deportista(peso=67)\n",
    "\n",
    "print(deportista1 > deportista2)  # True\n",
    "print(deportista1 > deportista3)  # False\n"
   ]
  },
  {
   "attachments": {},
   "cell_type": "markdown",
   "metadata": {},
   "source": [
    "Ahora es suficiente con cambiar el valor de order a False para verificar que en ese caso los métodos no están disponibles y que se produce una excepción porque la comparación \"mayor que\" no estaría soportada por la clase.\n",
    "\n",
    "En el ejemplo siguiente se establece el parámetro frozen a True con lo cual es posible instanciar la clase para crear objetos, pero no es posible asignar valores porque el objeto ha sido \"congelado\". El intento de asignación produce una excepción de tipo dataclasses.FrozenInstanceError:\n"
   ]
  },
  {
   "cell_type": "code",
   "execution_count": 12,
   "metadata": {},
   "outputs": [
    {
     "ename": "FrozenInstanceError",
     "evalue": "cannot assign to field 'peso'",
     "output_type": "error",
     "traceback": [
      "\u001b[0;31m---------------------------------------------------------------------------\u001b[0m",
      "\u001b[0;31mFrozenInstanceError\u001b[0m                       Traceback (most recent call last)",
      "Cell \u001b[0;32mIn[12], line 10\u001b[0m\n\u001b[1;32m      7\u001b[0m     peso: \u001b[39mfloat\u001b[39m \u001b[39m=\u001b[39m \u001b[39m0\u001b[39m\n\u001b[1;32m      9\u001b[0m deportista4 \u001b[39m=\u001b[39m Deportista(peso\u001b[39m=\u001b[39m\u001b[39m64\u001b[39m)\n\u001b[0;32m---> 10\u001b[0m deportista4\u001b[39m.\u001b[39;49mpeso \u001b[39m=\u001b[39m \u001b[39m63\u001b[39m  \u001b[39m# dataclasses.FrozenInstanceError\u001b[39;00m\n",
      "File \u001b[0;32m<string>:4\u001b[0m, in \u001b[0;36m__setattr__\u001b[0;34m(self, name, value)\u001b[0m\n",
      "\u001b[0;31mFrozenInstanceError\u001b[0m: cannot assign to field 'peso'"
     ]
    }
   ],
   "source": [
    "from dataclasses import dataclass\n",
    "\n",
    "@dataclass(frozen=True)\n",
    "class Deportista:\n",
    "    nombre: str = 'Desconocido'\n",
    "    altura: float = 0\n",
    "    peso: float = 0\n",
    "\n",
    "deportista4 = Deportista(peso=64)\n",
    "deportista4.peso = 63  # dataclasses.FrozenInstanceError\n"
   ]
  },
  {
   "attachments": {},
   "cell_type": "markdown",
   "metadata": {},
   "source": [
    "__La función asdict()__\n",
    "\n",
    "La función asdict() se utiliza para convertir una instancia de clase de datos en un diccionario Python.\n",
    "\n",
    "En el ejemplo siguiente se importa la función asdict que se emplea para convertir el objeto deportista1 en un diccionario usando los campos de la clase de datos para definir sus claves y sus valores:\n"
   ]
  },
  {
   "cell_type": "code",
   "execution_count": 13,
   "metadata": {},
   "outputs": [
    {
     "name": "stdout",
     "output_type": "stream",
     "text": [
      "Elena supera la altura\n"
     ]
    }
   ],
   "source": [
    "from dataclasses import dataclass, asdict\n",
    "\n",
    "\n",
    "@dataclass\n",
    "class Deportista:\n",
    "    nombre: str\n",
    "    altura: float\n",
    "    peso: float\n",
    "\n",
    "deportista1 = Deportista('Elena', 1.81, 64)\n",
    "dicc1 = asdict(deportista1)\n",
    "\n",
    "if dicc1['altura'] > 1.75:\n",
    "   print(dicc1['nombre'], 'supera la altura')\n",
    "\n"
   ]
  },
  {
   "attachments": {},
   "cell_type": "markdown",
   "metadata": {},
   "source": [
    "__La función field()__\n",
    "\n",
    "La función field() permite facilitar información adicional al decorador relativa a cada campo que la utilizará en la generación de los métodos.\n",
    "\n",
    "En el ejemplo que sigue para el atributo peso se establecen los parámetros init y repr a False. Esto indica al decorador que el objeto podrá crearse sin el atributo peso y que cuando se imprima su representación será omitida esta información. \n",
    "\n",
    "No obstante, como el atributo peso existe se le podrá asignar un valor en cualquier momento y acceder al mismo después de la asignación."
   ]
  },
  {
   "cell_type": "code",
   "execution_count": null,
   "metadata": {},
   "outputs": [],
   "source": [
    "from dataclasses import dataclass, field\n",
    "\n",
    "@dataclass\n",
    "class Deportista:\n",
    "    nombre: str\n",
    "    altura: float\n",
    "    peso: float = field(init=False, repr=False)\n",
    "\n",
    "deportista1 = Deportista('Elena', 1.81)\n",
    "deportista1.peso = 64\n",
    "print(deportista1)  # Deportista(nombre='Elena', altura=1.81)\n",
    "print(deportista1.peso)  # 64\n"
   ]
  },
  {
   "attachments": {},
   "cell_type": "markdown",
   "metadata": {},
   "source": [
    "### Herencia\n",
    "\n",
    "Las clases de datos también pueden heredar atributos y métodos de otras clases de datos.\n",
    "\n",
    "En el siguiente ejemplo la clase de datos Equipo hereda de la clase Deportista sus variables y métodos aunque en esta ocasión ambas clases redefinen el método \\_\\_str\\_\\_() para que al ser llamado muestre información diferente en cada ámbito.\n",
    "\n",
    "En la clase que hereda, Equipo, la variable equipo debe tener un valor por defecto para que cuando se instancie la clase Deportista no se produzca una excepción de tipo TypeError. Esto es así, aún cuando el atributo equipo queda fuera del alcance de la clase Deportista.\n"
   ]
  },
  {
   "cell_type": "code",
   "execution_count": null,
   "metadata": {},
   "outputs": [],
   "source": [
    "from dataclasses import dataclass\n",
    "\n",
    "@dataclass\n",
    "class Deportista:\n",
    "    nombre: str\n",
    "    altura: float = 0\n",
    "    peso: float = 0\n",
    "\n",
    "    def __str__(self) -> str:\n",
    "        return f'{self.nombre}: {self.altura}, {self.peso}'\n",
    "\n",
    "@dataclass\n",
    "class Equipo(Deportista):\n",
    "    equipo: str = 'desconocido'\n",
    "\n",
    "    def __str__(self) -> str:\n",
    "        return f'{self.nombre}: {self.equipo}'\n",
    "\n",
    "# Instancia la clase Deportista para crear objeto:\n",
    "deportista1 = Deportista('Elena', 1.81, 64)\n",
    "\n",
    "# Imprime llamando al método __str__() de\n",
    "# la clase Deportista:\n",
    "print(deportista1)  # Elena: 1.81, 64\n",
    "\n",
    "# Instancia la clase Equipo para crear objeto:\n",
    "deportista2 = Equipo('Marta', equipo='Sevilla')\n",
    "\n",
    "# Imprime llamando al método __str__() de\n",
    "# la clase Equipo:\n",
    "print(deportista2)  # Marta: Sevilla\n",
    "\n",
    "# Asigna valores a atributos de objeto de la clase Equipo:\n",
    "deportista2.altura = 1.76\n",
    "deportista2.peso = 68\n",
    "\n",
    "# Imprime representación formal de objeto de la clase Equipo:\n",
    "print(repr(deportista2))\n",
    "\n",
    "# Equipo(nombre='Marta', altura=1.76, peso=68, equipo='Sevilla')\n"
   ]
  },
  {
   "attachments": {},
   "cell_type": "markdown",
   "metadata": {},
   "source": [
    "### Herencia múltiple\n",
    "\n",
    "A diferencia de lenguajes como Java y C#, el lenguaje Python permite la herencia múltiple, es decir, se puede heredar de múltiples clases.\n",
    "La herencia múltiple es la capacidad de una subclase de heredar de múltiples súper clases.\n",
    "Esto conlleva un problema, y es que, si varias súper clases tienen los mismos atributos o métodos, la subclase sólo podrá heredar de una de ellas.\n",
    "En estos casos Python dará prioridad a las clases más a la izquierda en el momento de la declaración de la subclase:\n"
   ]
  },
  {
   "cell_type": "code",
   "execution_count": null,
   "metadata": {},
   "outputs": [],
   "source": [
    "class Persona(object):\n",
    "    \"\"\"Clase que representa una Persona\"\"\"\n",
    "\n",
    "    def __init__(self, cedula, nombre, apellido, sexo):\n",
    "        \"\"\"Constructor de clase Persona\"\"\"\n",
    "        self.cedula = cedula\n",
    "        self.nombre = nombre\n",
    "        self.apellido = apellido\n",
    "        self.sexo = sexo\n",
    "\n",
    "    def __str__(self):\n",
    "        \"\"\"Devuelve una cadena representativa de Persona\"\"\"\n",
    "        return \"%s: %s, %s %s, %s.\" % (\n",
    "            self.__doc__[25:34], str(self.cedula), self.nombre,\n",
    "            self.apellido, self.getGenero(self.sexo))\n",
    "\n",
    "    def hablar(self, mensaje):\n",
    "        \"\"\"Mostrar mensaje de saludo de Persona\"\"\"\n",
    "        return mensaje\n",
    "\n",
    "    def getGenero(self, sexo):\n",
    "        \"\"\"Mostrar el genero de la Persona\"\"\"\n",
    "        genero = ('Masculino', 'Femenino')\n",
    "        if sexo == \"M\":\n",
    "            return genero[0]\n",
    "        elif sexo == \"F\":\n",
    "            return genero[1]\n",
    "        else:\n",
    "            return \"Desconocido\"\n",
    "\n",
    "\n",
    "class Supervisor(Persona):\n",
    "    \"\"\"Clase que representa a un Supervisor\"\"\"\n",
    "\n",
    "    def __init__(self, cedula, nombre, apellido, sexo, rol):\n",
    "        \"\"\"Constructor de clase Supervisor\"\"\"\n",
    "\n",
    "        # Invoca al constructor de clase Persona\n",
    "        Persona.__init__(self, cedula, nombre, apellido, sexo)\n",
    "\n",
    "        # Nuevos atributos\n",
    "        self.rol = rol\n",
    "        self.tareas = ['10', '11', '12', '13']\n",
    "\n",
    "    def __str__(self):\n",
    "        \"\"\"Devuelve una cadena representativa al Supervisor\"\"\"\n",
    "        return \"%s: %s %s, rol: '%s', sus tareas: %s.\" % (\n",
    "            self.__doc__[26:37], self.nombre, self.apellido,\n",
    "            self.rol, self.consulta_tareas())\n",
    "\n",
    "    def consulta_tareas(self):\n",
    "        \"\"\"Mostrar las tareas del Supervisor\"\"\"\n",
    "        return ', '.join(self.tareas)\n",
    "\n",
    "\n",
    "class Destreza(object):\n",
    "    \"\"\"Clase la cual representa la Destreza de la Persona\"\"\"\n",
    "\n",
    "    def __init__(self, area, herramienta, experiencia):\n",
    "        \"\"\"Constructor de clase Destreza\"\"\"\n",
    "        self.area = area\n",
    "        self.herramienta = herramienta\n",
    "        self.experiencia = experiencia\n",
    "\n",
    "    def __str__(self):\n",
    "        \"\"\"Devuelve una cadena representativa de la Destreza\"\"\"\n",
    "        return \"\"\"Destreza en el área %s con la herramienta %s, \n",
    "        tiene %s años de experiencia.\"\"\" % (\n",
    "            str(self.area), self.experiencia, self.herramienta)\n",
    "\n",
    "\n",
    "class JefeCuadrilla(Supervisor, Destreza):\n",
    "    \"\"\"Clase la cual representa al Jefe de Cuadrilla\"\"\"\n",
    "\n",
    "    def __init__(self, cedula, nombre, apellido, sexo,\n",
    "                 rol, area, herramienta, experiencia, cuadrilla):\n",
    "        \"\"\"Constructor de clase Jefe de Cuadrilla\"\"\"\n",
    "\n",
    "        # Invoca al constructor de clase Supervisor\n",
    "        Supervisor.__init__(self, cedula, nombre, apellido, sexo,\n",
    "                            rol)\n",
    "        # Invoca al constructor de clase Destreza\n",
    "        Destreza.__init__(self, area, herramienta, experiencia)\n",
    "\n",
    "        # Nuevos atributos\n",
    "        self.cuadrilla = cuadrilla\n",
    "\n",
    "    def __str__(self):\n",
    "        \"\"\"Devuelve cadena representativa al Jefe de Cuadrilla\"\"\"\n",
    "        jq = \"{0}: {1} {2}, rol '{3}', tareas {4}, cuadrilla: {5}\"\n",
    "        return jq.format(\n",
    "            self.__doc__[28:46], self.nombre, self.apellido,\n",
    "            self.rol, self.consulta_tareas(), self.cuadrilla)\n"
   ]
  },
  {
   "attachments": {},
   "cell_type": "markdown",
   "metadata": {},
   "source": [
    "### Clases Mixins\n",
    "\n",
    "Para aprovechar al máximo el potencial que ofrece la herencia múltiple, se pueden crear clases que ayuden a la clase principal de alguna forma, por ejemplo, aportando un nuevo método agnóstico, añadiendo funcionalidades extra como loguear acciones, añadiendo atributos propios, etc., y que interfieran parcialmente con la clase base. Este tipo de clases se denominan Mixin y su principal función es ser combinadas con clases base para nuevas clases mejoradas. formar\n",
    "\n",
    "Las clases Mixin son muy utilizadas en los ORM (object relational manager) porque, partiendo de una clase base, se pueden añadir funcionalidades extra que competen al comportamiento de una clase al ser usada para mapear una base de datos o en serializadores, los cuales analizan cualquier tipo de dato para ser serializado. Y estos son solo algunos ejemplos. Por ejemplo, en el framework web Django existen multitud de clases Mixin que pretenden ayudar al desarrollador, tales como DetailView, SingleObjectMixin, Template ResponseMixin y un gran número de clases más, tanto defini das en el propio framework como provenientes de terceros.\n",
    "\n",
    "El código que representa que un objeto A sea representado en una plantilla Bo que una respuesta deba ser del tipo AJAX (con las cabeceras específicas, un código de estado concreto y el tipo de dato correctamente formateado) es código independiente del tipo de objeto A, la plantilla B o el contenido de respuesta. Por tanto, la lógica interna puede convertirse en una clase Mixin y ser reutilizada.\n",
    "\n",
    "Un ejemplo simple de este tipo de clases podría ser una clase que cuente el número de veces que se llama a cada método de una clase base. Se podría definir de la siguiente forma:\n"
   ]
  },
  {
   "cell_type": "code",
   "execution_count": null,
   "metadata": {},
   "outputs": [],
   "source": [
    "import json\n",
    "\n",
    "\n",
    "class JSONISH:\n",
    "    \"\"\"Mixin que permite guardar en un archivo json los atributos de la instancia y sus valores\"\"\"\n",
    "    json_nombre_fichero = None\n",
    "\n",
    "    def __init__(self):\n",
    "        if not self.json_nombre_fichero:\n",
    "            nombres_padres = [x.__name__ for x in self.__class__.__mro__ if x.__name__ != 'object']\n",
    "            nombres = '_'.join(nombres_padres)\n",
    "            self.json_nombre_fichero = nombres + '.json'\n",
    "\n",
    "    def save_json(self):\n",
    "        variables = vars(self)\n",
    "        json.dump(variables, open(self.json_nombre_fichero, 'wa'))\n"
   ]
  },
  {
   "attachments": {},
   "cell_type": "markdown",
   "metadata": {},
   "source": [
    "Como se puede ver, la clase JSONISH tiene el método save_json, que es independiente de cualquier tipo de clase, usa las variables que tiene el objeto self y lo guarda en un fichero definido en la variable self. json_nombre_fichero. El nombre de json_nombre_fichero se define al llamar a la función init de esta clase, y si no se ha definido en la clase, se define usando los nombres de las clases que componen el MRO (excluyendo a object).\n",
    "\n",
    "El resultado se puede ver a continuación: se define una clase Persona y una clase Piloto que hereda de Persona y de JSONISH, lo que permite guardar en un fichero JSON de forma simple:\n"
   ]
  },
  {
   "cell_type": "code",
   "execution_count": null,
   "metadata": {},
   "outputs": [],
   "source": [
    "from dataclasses import dataclass\n",
    "\n",
    "@dataclass\n",
    "class Persona:\n",
    "    nombre: str\n",
    "    apellidos: str\n",
    "    telefono: str\n",
    "    edad: int\n",
    "\n",
    "    def __post_init__(self):\n",
    "        super().__init__()\n",
    "\n",
    "\n",
    "@dataclass\n",
    "class Piloto(Persona, JSONISH):\n",
    "    equipo: str\n",
    "    categoria: str\n"
   ]
  },
  {
   "attachments": {},
   "cell_type": "markdown",
   "metadata": {},
   "source": [
    "Como se puede ver, la instancia de Persona ana no dispone del método save_json, dado que está definido en la clase JSONISH y la clase Per sona no hereda de JSONISH. Sin embargo, la clase Piloto, que es la que tiene la variable marc, sí que la hereda y puede guardar la información sin problema en un fichero denominado Piloto_Persona_JSONISH. json.\n",
    "\n",
    "Cabe destacar que el uso de Mixin cambia el MRO, el tipo de la clase y su comportamiento, por lo que hay que prestar especial atención cuando se crean y se usan estas clases Mixin, dado que fácilmente pueden interferir con otros métodos o atributos de las clases base o heredantes.\n",
    "\n",
    "Uno de los mayores beneficios del uso de este tipo de clases es que si se definen variables de clase, las clases herederas pueden sobrescribirlas y así beneficiarse del potencial de los Mixin. Por ejemplo, en la clase JSONISH, si la clase que hereda define un nombre específico de fichero en el atributo json_nombre_fichero, se utilizará y no se generará de forma dinámica, como se puede ver en el siguiente ejemplo:\n"
   ]
  },
  {
   "cell_type": "code",
   "execution_count": null,
   "metadata": {},
   "outputs": [],
   "source": [
    "from dataclasses import dataclass\n",
    "\n",
    "@dataclass\n",
    "class PilotoParticular(Persona, JSONISH):\n",
    "    equipo: str\n",
    "    categoria: str\n",
    "    json_nombre_fichero = 'piloto_especial.json'\n"
   ]
  },
  {
   "attachments": {},
   "cell_type": "markdown",
   "metadata": {},
   "source": [
    "Como se puede apreciar en el ejemplo, las instancias de PilotoParti cular se guardan en el fichero piloto_especial.json. A diferencia de Piloto, la variable json_nombre_fichero no se guarda, dado que pertenece a la clase Piloto Particular, y no a JSONISH. Como vemos, el contexto de cada clase es algo a tener muy en cuenta cuando se diseñan clases complejas.\n"
   ]
  },
  {
   "attachments": {},
   "cell_type": "markdown",
   "metadata": {},
   "source": [
    "### Metaclases y Type\n",
    "\n",
    "En esta sección se hablará de un concepto más avanzado de la creación de tipos y clases en Python. Veremos cómo se construyen las clases en profundidad. Cuando se crean clases con la palabra reservada class realmente se hace una llamada al constructor de clases de Python para registrar una nueva clase con sus características, lo que se denomina metaclase. La metaclase utilizada por defecto es type, y tiene la siguiente sintaxis:\n",
    "\n",
    "•\ttype(name, bases, attrs): el primer parámetro define el nombre de la clase por construir, el segundo es una tupla con la clase o clases padre y el último parámetro es un diccionario con los atributos de la clase que incluye la documentación, los nombres de los métodos, los atributos y los valores.\n"
   ]
  },
  {
   "attachments": {},
   "cell_type": "markdown",
   "metadata": {},
   "source": [
    "### Creación de metaclases propias\n",
    "\n",
    "En el apartado anterior se ha visto que la metaclase por defecto es type. Sin embargo, si se quisiera hacer una metaclase especial que sea la utilizada por las demás clases, se puede crear sin problema, heredando siempre de la metaclase original type.\n",
    "\n",
    "A diferencia de cuando se trabaja a nivel de clase y de objeto, cuando se trabaja a nivel de metaclase solo se tiene la información de las declaraciones de las funciones a llamar, o lo que es lo mismo, de los parámetros que se le están pasando a según qué funciones. No se tiene la información de las instancias en sí. El método más común para implementar cuando se quiere crear una metaclase personalizada es el método new y no el método init como pasa con las clases. En cualquier caso, se pueden definir todos los métodos mágicos teniendo en cuenta que el principal propósito es analizar los parámetros que se suministran.\n",
    "\n",
    "Un ejemplo práctico sería una metaclase propia que obligue a que cada clase o subclase de Animal tenga alas, aletas o patas, pero no pueda tener los tres atributos a la vez. Si a una clase o subclase le faltan todos estos atributos, se le añaden por defecto dos patas.\n",
    "\n",
    "\n"
   ]
  },
  {
   "cell_type": "code",
   "execution_count": 14,
   "metadata": {},
   "outputs": [
    {
     "name": "stdout",
     "output_type": "stream",
     "text": [
      "Patas de un pato: 2\n"
     ]
    },
    {
     "ename": "TypeError",
     "evalue": "Clase \"Engendro\" no puede definir alas, aletas y patas a la vez",
     "output_type": "error",
     "traceback": [
      "\u001b[0;31m---------------------------------------------------------------------------\u001b[0m",
      "\u001b[0;31mTypeError\u001b[0m                                 Traceback (most recent call last)",
      "Cell \u001b[0;32mIn[14], line 28\u001b[0m\n\u001b[1;32m     24\u001b[0m p \u001b[39m=\u001b[39m Pato()\n\u001b[1;32m     25\u001b[0m \u001b[39mprint\u001b[39m(\u001b[39mf\u001b[39m\u001b[39m'\u001b[39m\u001b[39mPatas de un pato: \u001b[39m\u001b[39m{\u001b[39;00mp\u001b[39m.\u001b[39mpatas\u001b[39m}\u001b[39;00m\u001b[39m'\u001b[39m)\n\u001b[0;32m---> 28\u001b[0m \u001b[39mclass\u001b[39;00m \u001b[39mEngendro\u001b[39;00m(Animal):\n\u001b[1;32m     29\u001b[0m     patas \u001b[39m=\u001b[39m \u001b[39m7\u001b[39m\n\u001b[1;32m     30\u001b[0m     alas \u001b[39m=\u001b[39m \u001b[39m3\u001b[39m\n",
      "Cell \u001b[0;32mIn[14], line 6\u001b[0m, in \u001b[0;36mMetaclaseAnimal.__new__\u001b[0;34m(mcs, name, bases, attrs)\u001b[0m\n\u001b[1;32m      4\u001b[0m     attrs[\u001b[39m'\u001b[39m\u001b[39mpatas\u001b[39m\u001b[39m'\u001b[39m] \u001b[39m=\u001b[39m \u001b[39m2\u001b[39m\n\u001b[1;32m      5\u001b[0m \u001b[39mif\u001b[39;00m \u001b[39m'\u001b[39m\u001b[39malas\u001b[39m\u001b[39m'\u001b[39m \u001b[39min\u001b[39;00m attrs \u001b[39mand\u001b[39;00m \u001b[39m'\u001b[39m\u001b[39maletas\u001b[39m\u001b[39m'\u001b[39m \u001b[39min\u001b[39;00m attrs \u001b[39mand\u001b[39;00m \u001b[39m'\u001b[39m\u001b[39mpatas\u001b[39m\u001b[39m'\u001b[39m \u001b[39min\u001b[39;00m attrs:\n\u001b[0;32m----> 6\u001b[0m     \u001b[39mraise\u001b[39;00m \u001b[39mTypeError\u001b[39;00m(\u001b[39mf\u001b[39m\u001b[39m'\u001b[39m\u001b[39mClase \u001b[39m\u001b[39m\"\u001b[39m\u001b[39m{\u001b[39;00mname\u001b[39m}\u001b[39;00m\u001b[39m\"\u001b[39m\u001b[39m no puede definir alas, aletas y patas a la vez\u001b[39m\u001b[39m'\u001b[39m)\n\u001b[1;32m      7\u001b[0m \u001b[39mreturn\u001b[39;00m \u001b[39msuper\u001b[39m(MetaclaseAnimal, mcs)\u001b[39m.\u001b[39m\u001b[39m__new__\u001b[39m(mcs, name, bases, attrs)\n",
      "\u001b[0;31mTypeError\u001b[0m: Clase \"Engendro\" no puede definir alas, aletas y patas a la vez"
     ]
    }
   ],
   "source": [
    "class MetaclaseAnimal(type):\n",
    "    def __new__(mcs, name, bases, attrs):\n",
    "        if 'alas' not in attrs and 'aletas' not in attrs and 'patas' not in attrs:\n",
    "            attrs['patas'] = 2\n",
    "        if 'alas' in attrs and 'aletas' in attrs and 'patas' in attrs:\n",
    "            raise TypeError(f'Clase \"{name}\" no puede definir alas, aletas y patas a la vez')\n",
    "        return super(MetaclaseAnimal, mcs).__new__(mcs, name, bases, attrs)\n",
    "\n",
    "\n",
    "class Animal(metaclass=MetaclaseAnimal):\n",
    "    pass\n",
    "\n",
    "\n",
    "class Gato(Animal):\n",
    "    patas = 4\n",
    "\n",
    "\n",
    "class Pato(Animal):\n",
    "    pass\n",
    "\n",
    "\n",
    "if __name__ == '__main__':\n",
    "    g = Gato()\n",
    "    p = Pato()\n",
    "    print(f'Patas de un pato: {p.patas}')\n",
    "\n",
    "\n",
    "    class Engendro(Animal):\n",
    "        patas = 7\n",
    "        alas = 3\n",
    "        aletas = 4\n",
    "\n",
    "\n",
    "    e = Engendro()\n"
   ]
  },
  {
   "attachments": {},
   "cell_type": "markdown",
   "metadata": {},
   "source": [
    "Al intentar definir la clase Engendro, el propio intérprete es el que eleva la excepción que se ha definido en la metaclase. Como se puede ver en el ejemplo, la nueva forma de definir qué metaclase debe usarse es utilizando un parámetro adicional cuando se declara la clase llamado metaclass.\n",
    "\n",
    "El uso de metaclases está presente en los ORM de los frameworks más conocidos, como Django Models o SQAlchemy, para poder definir clases que mapean las columnas de una base de datos.\n"
   ]
  },
  {
   "attachments": {},
   "cell_type": "markdown",
   "metadata": {},
   "source": [
    "## Módulo II - Recursividad y generadores\n"
   ]
  },
  {
   "attachments": {},
   "cell_type": "markdown",
   "metadata": {},
   "source": [
    "### Funciones recursivas\n",
    "\n",
    "Las funciones recursivas son funciones que se llaman a sí mismas durante su propia ejecución. Ellas funcionan de forma similar a las iteraciones, pero debe encargarse de planificar el momento en que dejan de llamarse a sí mismas o tendrá una función recursiva infinita.\n",
    "\n",
    "Estas funciones se estilan utilizar para dividir una tarea en sub-tareas más simples de forma que sea más fácil abordar el problema y solucionarlo.\n",
    "\n"
   ]
  },
  {
   "attachments": {},
   "cell_type": "markdown",
   "metadata": {},
   "source": [
    "### Función recursiva sin retorno\n",
    "\n",
    "Un ejemplo de una función recursiva sin retorno, es el ejemplo de cuenta regresiva hasta cero a partir de un número:"
   ]
  },
  {
   "cell_type": "code",
   "execution_count": 15,
   "metadata": {},
   "outputs": [
    {
     "name": "stdout",
     "output_type": "stream",
     "text": [
      "4\n",
      "3\n",
      "2\n",
      "1\n",
      "Cuenta terminada!\n",
      "Fin de la función 0\n",
      "Fin de la función 1\n",
      "Fin de la función 2\n",
      "Fin de la función 3\n",
      "Fin de la función 4\n"
     ]
    }
   ],
   "source": [
    "def cuenta_regresiva(numero):\n",
    "    numero -= 1\n",
    "    if numero > 0:\n",
    "        print(numero)\n",
    "        cuenta_regresiva(numero)\n",
    "    else:\n",
    "        print(\"Cuenta terminada!\")\n",
    "    print(\"Fin de la función\", numero)\n",
    "\n",
    "\n",
    "cuenta_regresiva(5)\n"
   ]
  },
  {
   "attachments": {},
   "cell_type": "markdown",
   "metadata": {},
   "source": [
    "### Función recursiva con retorno\n",
    "\n",
    "Un ejemplo de una función recursiva con retorno, es el ejemplo del calculo del factorial de un número corresponde al producto de todos los números desde 1 hasta el propio número. Es el ejemplo con retorno más utilizado para mostrar la utilidad de este tipo de funciones:"
   ]
  },
  {
   "cell_type": "code",
   "execution_count": 17,
   "metadata": {},
   "outputs": [
    {
     "name": "stdout",
     "output_type": "stream",
     "text": [
      "Valor inicial -> 3\n",
      "Valor inicial -> 2\n",
      "Valor inicial -> 1\n",
      "valor final -> 1\n",
      "valor final -> 2\n",
      "valor final -> 6\n",
      "6\n"
     ]
    }
   ],
   "source": [
    "def factorial(numero):\n",
    "    print(\"Valor inicial ->\",numero)\n",
    "    if numero > 1:\n",
    "        numero = numero * factorial(numero -1)\n",
    "    print(\"valor final ->\",numero)\n",
    "    return numero\n",
    "\n",
    "\n",
    "print(factorial(3))\n"
   ]
  },
  {
   "attachments": {},
   "cell_type": "markdown",
   "metadata": {},
   "source": [
    "### Función generadora\n",
    "\n",
    "Las funciones generadoras son aquellas funciones que no devuelven inmediatamente un valor, en cambio “aguantan” el valor de una expresión y devuelven un iterador que contiene el flujo de valores. Por ejemplo:"
   ]
  },
  {
   "cell_type": "code",
   "execution_count": 18,
   "metadata": {},
   "outputs": [
    {
     "name": "stdout",
     "output_type": "stream",
     "text": [
      "0\n",
      "1\n"
     ]
    }
   ],
   "source": [
    "def generar_enteros(numero):\n",
    "    for i in range(numero):\n",
    "        yield i\n",
    "\n",
    "gen = generar_enteros(2)\n",
    "print(next(gen))  # 0\n",
    "print(next(gen))  # 1\n",
    "# print(next(gen))  # StopIteration"
   ]
  }
 ],
 "metadata": {
  "kernelspec": {
   "display_name": "env",
   "language": "python",
   "name": "python3"
  },
  "language_info": {
   "codemirror_mode": {
    "name": "ipython",
    "version": 3
   },
   "file_extension": ".py",
   "mimetype": "text/x-python",
   "name": "python",
   "nbconvert_exporter": "python",
   "pygments_lexer": "ipython3",
   "version": "3.10.6"
  },
  "orig_nbformat": 4
 },
 "nbformat": 4,
 "nbformat_minor": 2
}
