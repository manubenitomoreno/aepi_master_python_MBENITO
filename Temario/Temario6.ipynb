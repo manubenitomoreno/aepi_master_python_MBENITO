{
 "cells": [
  {
   "attachments": {},
   "cell_type": "markdown",
   "metadata": {},
   "source": [
    "# Máster en Python Avanzado por Asociación AEPI"
   ]
  },
  {
   "attachments": {},
   "cell_type": "markdown",
   "metadata": {},
   "source": [
    "## Módulo XII - Creación de ejecutables python"
   ]
  },
  {
   "attachments": {},
   "cell_type": "markdown",
   "metadata": {},
   "source": [
    "### INTRODUCCIÓN\n",
    "\n",
    "En este modulo se provee la información necesaria para realizar archivos ejecutables a partir de programas realizados en Python. Aunque existen una gran variedad de programas que sirven para este propósito, el que presentamos aquí lo hemos seleccionado por su sencillez. El paquete que usamos se llama pyinstaller y nos sirve para trabajar en los sistemas operativos Windows y en Mac.\n",
    "\n",
    "### INSTALACIÓN DE PYINSTALLER\n",
    "\n",
    "El módulo pyinstaller es gratuito y se puede instalar desde la ventana de comandos del sistema. Para esto usamos el administrador de dependencias pip como en otras ocaciones. En una ventana de comandos en Windows y en una ventana de Terminal en Mac y en Linux, pyinstaller se instala con:\n",
    "\n",
    "pip install pyinstaller\n",
    "\n",
    "Una vez instalado, en la ventana de comandos podemos checar que versión tenemos con:\n",
    "\n",
    "pyinstaller --version\n"
   ]
  },
  {
   "attachments": {},
   "cell_type": "markdown",
   "metadata": {},
   "source": [
    "### CREACIÓN DE EJECUTABLES\n",
    "\n",
    "Para realizar un ejecutable de un archivo de Python, simplemente escribimos:\n",
    "\n",
    "pyinstaller miarchivo.py\n",
    "\n",
    "donde miarchivo.py es el nombre del archivo. Con esto se crean dos ficheros llamados dist y build. En el fichero dist se crea el archivo miarchivo.exe\n"
   ]
  },
  {
   "attachments": {},
   "cell_type": "markdown",
   "metadata": {},
   "source": [
    "## Módulo X - Pruebas unitarias"
   ]
  },
  {
   "attachments": {},
   "cell_type": "markdown",
   "metadata": {},
   "source": [
    "### Pytest"
   ]
  }
 ],
 "metadata": {
  "language_info": {
   "name": "python"
  },
  "orig_nbformat": 4
 },
 "nbformat": 4,
 "nbformat_minor": 2
}
