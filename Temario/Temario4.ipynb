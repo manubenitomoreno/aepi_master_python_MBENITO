{
 "cells": [
  {
   "attachments": {},
   "cell_type": "markdown",
   "metadata": {},
   "source": [
    "# Master en Python Avanzado por Asociación AEPI"
   ]
  },
  {
   "attachments": {},
   "cell_type": "markdown",
   "metadata": {},
   "source": [
    "## Trabajar con imágenes\n",
    "\n",
    "### Pillow\n",
    "\n",
    "Pillow es un gran amigo del proyecto PIL, que ha permitido, entre otros, su migración a Python 3. PIL es el acrónimo de Python Imaging Library. Se trata, como su propio nombre indica, de una librería de manipulación de imágenes matriciales para Python y soporta los formatos BMP, GIF, JPG, PNG y TIFF, entre otros.\n",
    "\n",
    "Dispone de una documentación oficial interesante (http://www.pythonware.com/libra ry/pil/handbook/) y muchos otros recursos en Internet que permiten trabajar de manera sencilla con las imágenes.\n",
    "\n",
    "Los dispositivos fotográficos digitales actuales permiten realizar fotografías de muy buena calidad y, por tanto, de grandes dimensiones. Una de las funcionalidades esenciales es poder redimensionar una fotografía. Por ejemplo, si imaginamos un sitio web que muestre galerías de imágenes, la representación de 20 fotos por página, a 15 MB por fotografía, sería un error monumental. La solución ideal es proporcionar tres imágenes por cada fotografía: una de tamaño fijo de 100 o 150 píxeles, para la miniatura que se muestra en la galería, una fotografía de 600 píxeles de ancho para mostrar la fotografía en una pantalla y un vínculo hacia la imagen en formato original para su descarga.\n",
    "\n",
    "La librería se instala de la siguiente manera: pip install pillow\n",
    "\n",
    "EFECTOS EN IMÁGENES\n",
    "\n",
    "A continuación, un pequeño código de fuente que hace uso de algunas de las posibilidades de efectos que provee la librería.\n"
   ]
  },
  {
   "cell_type": "code",
   "execution_count": 23,
   "metadata": {},
   "outputs": [],
   "source": [
    "from PIL import Image, ImageChops, ImageEnhance, ImageOps\n",
    "\n",
    "path = r\"C:\\Users\\ManuBenito\\Documents\\GitHub\\aepi_master_python_MBENITO\\Temario\\image.jpg\"\n",
    "\n",
    "def main():\n",
    "    image = Image.open(path)\n",
    "\n",
    "    # Invertir colores.\n",
    "    new_image = ImageChops.invert(image)\n",
    "    new_image.save(\"image_1.png\")\n",
    "\n",
    "    # Escala de grises.\n",
    "    new_image = ImageOps.grayscale(image)\n",
    "    new_image.save(\"image_2.png\")\n",
    "\n",
    "    # Resaltar luces.\n",
    "    new_image = ImageEnhance.Brightness(image).enhance(2)\n",
    "    new_image.save(\"image_3.png\")\n",
    "\n",
    "    # Contraste.\n",
    "    new_image = ImageEnhance.Contrast(image).enhance(4)\n",
    "    new_image.save(\"image_4.png\")\n",
    "\n",
    "    # Espejo.\n",
    "    new_image = ImageOps.mirror(image)\n",
    "    new_image.save(\"image_5.png\")\n",
    "\n",
    "    # Cambiar tamaño.\n",
    "    new_image = image.resize((320, 240))\n",
    "    new_image.save(\"image_6.png\")\n",
    "\n",
    "    # Diminuir nitidez.\n",
    "    new_image = ImageEnhance.Sharpness(image).enhance(-4)\n",
    "    new_image.save(\"image_7.png\")\n",
    "\n",
    "    # Redimensionar imagenes\n",
    "    w, h = image.size\n",
    "    image.thumbnail((150, int(150. *h/w)), Image.ANTIALIAS)\n",
    "    image.save(\"image_8.png\")\n",
    "\n",
    "\n",
    "#if __name__ == \"__main__\":\n",
    "main()\n"
   ]
  },
  {
   "cell_type": "code",
   "execution_count": 24,
   "metadata": {},
   "outputs": [],
   "source": [
    "main()"
   ]
  },
  {
   "attachments": {},
   "cell_type": "markdown",
   "metadata": {},
   "source": [
    "#### Recucperar la información de la imagen\n",
    "\n",
    "Cuando se trabaja una imagen, conviene conocer la información relativa, de manera que podamos determinar cómo se va a manipular, o incluso para realizar transformaciones previas. Para abrir una imagen, basta con una línea (además del import):\n",
    "\n",
    "```\n",
    "from PIL import Image \n",
    "\n",
    "im Image.open (filename)\n",
    "```\n",
    "\n",
    "El método open determina el formato de la imagen y a partir de él es capaz de representar la imagen en el formato adecuado. La información relativa a su representación se obtiene de la siguiente manera: \n"
   ]
  },
  {
   "cell_type": "code",
   "execution_count": 16,
   "metadata": {},
   "outputs": [],
   "source": [
    "from PIL import Image, ImageDraw, ImageFont\n",
    "\n",
    "#im Image.open (filename)"
   ]
  },
  {
   "cell_type": "code",
   "execution_count": 17,
   "metadata": {},
   "outputs": [],
   "source": [
    "def informacion_imagen(path):\n",
    "    image = Image.open(path)\n",
    "    print(image.format)\n",
    "    print(image.format_description)\n",
    "    print(image.tile)\n",
    "    print(image.getbbox())\n",
    "    print(image.size)\n",
    "    print(image.mode)\n",
    "    print(image.getbands())\n",
    "    print(image.getextrema())\n",
    "    print(image.info)\n",
    "    print(image.getexif())\n"
   ]
  },
  {
   "cell_type": "code",
   "execution_count": 18,
   "metadata": {},
   "outputs": [
    {
     "name": "stdout",
     "output_type": "stream",
     "text": [
      "JPEG\n",
      "JPEG (ISO 10918)\n",
      "[('jpeg', (0, 0, 390, 218), 0, ('RGB', ''))]\n",
      "(0, 0, 390, 218)\n",
      "(390, 218)\n",
      "RGB\n",
      "('R', 'G', 'B')\n",
      "((2, 255), (10, 255), (5, 255))\n",
      "{'jfif': 258, 'jfif_version': (1, 2), 'dpi': (300, 300), 'jfif_unit': 1, 'jfif_density': (300, 300), 'comment': b'LEADTOOLS v20.0\\x00'}\n",
      "{}\n"
     ]
    }
   ],
   "source": [
    "informacion_imagen(path)"
   ]
  },
  {
   "attachments": {},
   "cell_type": "markdown",
   "metadata": {},
   "source": [
    "#### Agregar texto a la imagen\n",
    "\n",
    "Después de abrir la imagen que deseamos editar, creamos una instancia de ImageDraw para dibujar sobre la misma. Antes de añadir un texto es necesario crear la fuente. PIL utiliza su propio formato de archivos para fuentes de texto, aunque también soporta TrueType y OpenType. Usuarios de Microsoft Windows pueden utilizar, por ejemplo, Arial.\n",
    "\n"
   ]
  },
  {
   "cell_type": "code",
   "execution_count": 21,
   "metadata": {},
   "outputs": [],
   "source": [
    "def texto_en_imagenes(path):\n",
    "    image = Image.open(path)\n",
    "    draw = ImageDraw.Draw(image)\n",
    "    font = ImageFont.truetype(\"arial.ttf\", 60)\n"
   ]
  },
  {
   "cell_type": "code",
   "execution_count": 22,
   "metadata": {},
   "outputs": [],
   "source": [
    "texto_en_imagenes(path)"
   ]
  },
  {
   "attachments": {},
   "cell_type": "markdown",
   "metadata": {},
   "source": [
    "El primer argumento indica la ubicación del archivo de fuente. En Windows, si no se especifica una ruta, el archivo será buscado en la carpeta de fuentes del sistema (usualmente C:\\Windows\\Fonts). El segundo argumento establece el tamaño.\n",
    "\n",
    "En sistemas basados en Unix deberá especificarse la ruta completa. Por ejemplo:\n"
   ]
  },
  {
   "cell_type": "code",
   "execution_count": null,
   "metadata": {},
   "outputs": [],
   "source": [
    "def texto_en_imagenes():\n",
    "    image = Image.open(\"image.png\")\n",
    "    draw = ImageDraw.Draw(image)\n",
    "    # font = ImageFont.truetype(\"C:\\Windows\\Fonts\\arial.ttf\", 60) Para windows\n",
    "    font = ImageFont.truetype(\"/usr/share/fonts/truetype/ttf-dejavu/DejaVuSerif.ttf\", 60) # Para linux y Mac\n"
   ]
  },
  {
   "attachments": {},
   "cell_type": "markdown",
   "metadata": {},
   "source": [
    "Una vez cargada la fuente, la función ImageDraw.Draw.text inserta el texto en una posición y con un color específicos:"
   ]
  },
  {
   "cell_type": "code",
   "execution_count": null,
   "metadata": {},
   "outputs": [],
   "source": [
    "draw.text((50, 50), \"CURSO DE HTML 5 Y CSS3\", font=font, fill=\"white\")"
   ]
  },
  {
   "attachments": {},
   "cell_type": "markdown",
   "metadata": {},
   "source": [
    "El primer argumento establece la posición (x, y) del texto en la imagen. Las coordenadas (0, 0) corresponden a la esquina superior izquierda.\n",
    "\n",
    "El parámetro fill especifica el color, que bien puede ser una tupla con el formato RGBA. Por ejemplo, (255, 255, 255, 255) es equivalente a \"white\". El cuarto elemento es el valor del canal alpha (255 es totalmente opaco, 0 totalmente transparente). La funcionalidad de agregar contorno al texto no es soportada.\n",
    "\n",
    "Guardamos el archivo como image_2.png.\n",
    "\n"
   ]
  },
  {
   "cell_type": "code",
   "execution_count": null,
   "metadata": {},
   "outputs": [],
   "source": [
    "def texto_en_imagenes():\n",
    "    image = Image.open(\"image.png\")\n",
    "    draw = ImageDraw.Draw(image)\n",
    "    # font = ImageFont.truetype(\"C:\\Windows\\Fonts\\arial.ttf\", 60) Para windows\n",
    "    font = ImageFont.truetype(\"/System/Library/Fonts/Supplemental/Chalkboard.ttc\", 60) # Para linux y Mac\n",
    "    draw.text((5, 150), \"CURSO DE HTML5\", font=font, fill=\"black\")\n",
    "    image.save(\"image_2.png\")\n",
    "\n"
   ]
  },
  {
   "attachments": {},
   "cell_type": "markdown",
   "metadata": {},
   "source": [
    "#### Rotando imágenes\n",
    "\n",
    "Mientras trabaja en imágenes utilizando la biblioteca de procesamiento de imágenes de Python, hay casos en los que necesita voltear una imagen existente para obtener más información o mejorar su visibilidad. El módulo de imágenes de la biblioteca de Pillow nos permite voltear una imagen muy fácilmente. Vamos a utilizar la función de transposición (método) del módulo Imagen para voltear las imágenes. Algunos de los métodos más utilizados compatibles con 'transpose ()' son: \n",
    "\n",
    "•\tImage.FLIP_LEFT_RIGHT: para voltear la imagen horizontalmente \n",
    "•\tImage.FLIP_TOP_BOTTOM: para voltear la imagen verticalmente \n",
    "•\tImage.ROTATE_90: para rotar la imagen especificando el grado\n",
    "\n"
   ]
  },
  {
   "cell_type": "code",
   "execution_count": null,
   "metadata": {},
   "outputs": [],
   "source": [
    "\n",
    "def rotando_imagenes_horizontal():\n",
    "    image = Image.open(\"spiderman.png\")\n",
    "    # Haz un giro de izquierda a derecha\n",
    "    hori_flippedImage = image.transpose(Image.FLIP_LEFT_RIGHT)\n",
    "    hori_flippedImage.show()\n"
   ]
  },
  {
   "cell_type": "code",
   "execution_count": null,
   "metadata": {},
   "outputs": [],
   "source": [
    "def rotando_imagenes_vertical():\n",
    "    image = Image.open(\"spiderman.png\")\n",
    "    # Haz un giro de izquierda a derecha\n",
    "    verti_flippedImage = image.transpose(Image.FLIP_TOP_BOTTOM)\n",
    "    verti_flippedImage.show()\n"
   ]
  },
  {
   "attachments": {},
   "cell_type": "markdown",
   "metadata": {},
   "source": [
    "## Trabajando con PDF\n",
    "\n",
    "Aquí hay una lista de bibliotecas que se pueden usar para manejar archivos PDF:\n",
    "\n",
    "•\tPDFMiner: esta biblioteca se utiliza para extraer información útil de los documentos PDF. A diferencia de otras herramientas, el objetivo de este paquete es obtener y analizar los datos.\n",
    "•\tPyPDF2: esta es una biblioteca PDF hecha de Python puro que puede recolectar, dividir, transformar y combinar archivos PDF. También hay opciones disponibles para agregar datos personalizados, contraseñas y opciones de visualización a archivos PDF. Puede combinar archivos PDF completos y recuperar metadatos y texto de PDF.\n",
    "•\tTabula-py: es el contenedor Python de tabula-java que se puede usar para leer las tablas presentes en PDF. También puede convertirlos en DataFrame of Pandas. También hay una opción para convertir el archivo PDF en un archivo JSON / TSV / CSV.\n",
    "•\tSlate: es la implementación del contenedor de PDFMiner.\n",
    "•\tPDFQuery: es la envoltura ligera de pyquery, lxml y pdfminer. Con esto, puede extraer los datos de archivos PDF de manera confiable sin escribir códigos largos.\n",
    "•\tXpdf: es el contenedor de Python que actualmente ofrece solo la utilidad para convertir PDF a texto.\n",
    "\n",
    "\n",
    "\n",
    "\n",
    "\n",
    "\n",
    "Casi todos estos paquetes lo hacen al mismo tiempo. Sin embargo, hay una diferencia importante entre PyPDF2 + y el pyPDF original, que es que el primero es compatible con Python 3.\n",
    "\n",
    "El primer paso para trabajar con un PDF en Python es instalar el paquete. Puede usar pip (si está usando Python normal) para instalar PyPDF2. Esto es lo que debe hacer para instalar PyPDF2 usando pip:\n",
    "\n",
    "pip install pypdf2\n",
    "\n",
    "El proceso de instalación no lleva mucho tiempo ya que el paquete PyPDF2 no tiene dependencias. \n",
    "\n",
    "Cómo extraer información de un documento de un PDF en Python \n",
    "\n",
    "Puede usar PyPDF2 para extraer metadatos y algo de texto de un PDF. Esto puede ser útil cuando realiza ciertos tipos de automatización en sus archivos PDF preexistentes. Estos son los tipos actuales de datos que se pueden extraer:\n",
    "\n",
    "•\tAuthor\n",
    "•\tCreator\n",
    "•\tProducer\n",
    "•\tSubject\n",
    "•\tTitle\n",
    "•\tNumber of pages\n"
   ]
  },
  {
   "attachments": {},
   "cell_type": "markdown",
   "metadata": {},
   "source": [
    "### Leyendo atributos del pdf\n",
    "\n",
    "Para aprender a leer los atributos de un pdf, usaremos el pdf suministrado en la carpeta del proyecto.\n",
    "\n",
    "Escribamos algo de código usando ese PDF y aprendamos cómo puede obtener acceso a estos atributos:\n"
   ]
  },
  {
   "cell_type": "code",
   "execution_count": null,
   "metadata": {},
   "outputs": [],
   "source": [
    "from PyPDF2 import PdfFileReader\n",
    "\n",
    "\n",
    "def extract_information(pdf_path):\n",
    "    with open(pdf_path, 'rb') as f:\n",
    "        pdf = PdfFileReader(f)\n",
    "        information = pdf.getDocumentInfo()\n",
    "        number_of_pages = pdf.getNumPages()\n",
    "\n",
    "    txt = f\"\"\"\n",
    "    Information about {pdf_path}: \n",
    "\n",
    "    Author: {information.author}\n",
    "    Creator: {information.creator}\n",
    "    Producer: {information.producer}\n",
    "    Subject: {information.subject}\n",
    "    Title: {information.title}\n",
    "    Number of pages: {number_of_pages}\n",
    "    \"\"\"\n",
    "\n",
    "    print(txt)\n",
    "    return information\n",
    "\n",
    "\n",
    "if __name__ == '__main__':\n",
    "    path = 'info.pdf'\n",
    "    extract_information(path)\n"
   ]
  },
  {
   "attachments": {},
   "cell_type": "markdown",
   "metadata": {},
   "source": [
    "Aquí importa PdfFileReader desde el paquete PyPDF2. PdfFileReader es una clase con varios métodos para interactuar con archivos PDF. En este ejemplo, llama a getDocumentInfo(), que devolverá una instancia de Document Information. Contiene la mayor parte de la información que le interesa. También llama a getNumPages() en el objeto del lector, que devuelve el número de páginas del documento.\n",
    "\n",
    "La variable de información tiene varios atributos de instancia que puede usar para obtener el resto de los metadatos que desea del documento. Usted imprime esa información y también la devuelve para un posible uso futuro. \n",
    "Si bien PyPDF2 tiene extractText(), que se puede usar en sus objetos de página (no se muestra en este ejemplo), no funciona muy bien. Algunos archivos PDF devolverán texto y otros devolverán una cadena vacía.\n",
    "\n"
   ]
  },
  {
   "attachments": {},
   "cell_type": "markdown",
   "metadata": {},
   "source": [
    "### ROTANDO PAGINAS PDF\n",
    "\n",
    "De vez en cuando, recibirá archivos PDF que contienen páginas que están en modo horizontal en lugar de modo vertical. O tal vez incluso están al revés. Esto puede suceder cuando alguien escanea un documento a PDF o correo electrónico. Puede imprimir el documento y leer la versión en papel o puede usar el poder de Python para rotar las páginas ofensivas. Para este ejemplo, puede elegir un artículo de Real Python e imprimirlo en PDF. Aprendamos cómo rotar algunas de las páginas de ese artículo con PyPDF2:\n"
   ]
  },
  {
   "cell_type": "code",
   "execution_count": null,
   "metadata": {},
   "outputs": [],
   "source": [
    "from PyPDF2 import PdfFileReader, PdfFileWriter\n",
    "\n",
    "\n",
    "def rotate_pages(pdf_path):\n",
    "    pdf_writer = PdfFileWriter()\n",
    "    pdf_reader = PdfFileReader(pdf_path)\n",
    "    # Rotate page 90 degrees to the right\n",
    "    page_1 = pdf_reader.getPage(0).rotateClockwise(90)\n",
    "    pdf_writer.addPage(page_1)\n",
    "    # Rotate page 90 degrees to the left\n",
    "    page_2 = pdf_reader.getPage(1).rotateCounterClockwise(90)\n",
    "    pdf_writer.addPage(page_2)\n",
    "    # Add a page in normal orientation\n",
    "    pdf_writer.addPage(pdf_reader.getPage(2))\n",
    "\n",
    "    with open('rotate_info.pdf', 'wb') as fh:\n",
    "        pdf_writer.write(fh)\n",
    "\n",
    "\n",
    "if __name__ == '__main__':\n",
    "    path = 'info.pdf'\n",
    "    rotate_pages(path)\n"
   ]
  },
  {
   "attachments": {},
   "cell_type": "markdown",
   "metadata": {},
   "source": [
    "Para este ejemplo, debe importar PdfFileWriter además de PdfFileReader porque necesitará escribir un nuevo PDF. \"rotate_pages()\" toma la ruta al PDF que deseas modificar. Dentro de esa función, deberá crear un objeto de escritor al que puede llamar pdf_writer y un objeto de lector llamado pdf_reader. \n",
    "A continuación, puede usar GetPage() para obtener la página deseada. \n",
    "Aquí tomas la página cero, que es la primera página. Luego llama al método rotateClockwise() del objeto de la página y pasa 90 grados. Luego, para la página dos, llame a rotateCounterClockwise() y páselo 90 grados también.\n",
    "\n",
    "Después de cada llamada a los métodos de rotación, llama a addPage(). Esto agregará la versión girada de la página al objeto de escritor. La última página que agrega al objeto escritor es la página 3 sin que se le haya hecho ninguna rotación. Finalmente, escribe el nuevo PDF usando write(). Toma un objeto similar a un archivo como su parámetro. Este nuevo PDF contendrá tres páginas. Los dos primeros se girarán en direcciones opuestas entre sí y estarán en formato horizontal, mientras que la tercera página es una página normal. Ahora aprendamos cómo puede fusionar varios archivos PDF en uno.\n"
   ]
  },
  {
   "attachments": {},
   "cell_type": "markdown",
   "metadata": {},
   "source": [
    "### CÓMO COMBINAR ARCHIVOS PDF \n",
    "\n",
    "Hay muchas situaciones en las que querrá tomar dos o más archivos PDF y fusionarlos en un solo PDF. Por ejemplo, es posible que tenga una portada estándar que deba continuar con muchos tipos de informes. Puedes usar Python para ayudarte a hacer ese tipo de cosas. Para este ejemplo, puede abrir un PDF e imprimir una página como un PDF separado. Luego hazlo de nuevo, pero con una página diferente. Eso le dará un par de entradas para usar con fines de ejemplo. Avancemos y escribamos un código que pueda usar para fusionar archivos PDF:\n"
   ]
  },
  {
   "cell_type": "code",
   "execution_count": null,
   "metadata": {},
   "outputs": [],
   "source": [
    "from PyPDF2 import PdfFileReader, PdfFileWriter\n",
    "\n",
    "\n",
    "def merge_pdfs(paths, output):\n",
    "    pdf_writer = PdfFileWriter()\n",
    "\n",
    "    for path in paths:\n",
    "        pdf_reader = PdfFileReader(path)\n",
    "        for page in range(pdf_reader.getNumPages()):\n",
    "            # Add each page to the writer object\n",
    "            pdf_writer.addPage(pdf_reader.getPage(page))\n",
    "\n",
    "    # Write out the merged PDF\n",
    "    with open(output, 'wb') as out:\n",
    "        pdf_writer.write(out)\n",
    "\n",
    "if __name__ == '__main__':\n",
    "    paths = ['info.pdf', 'info2.pdf']\n",
    "    merge_pdfs(paths, output='merged.pdf')"
   ]
  },
  {
   "attachments": {},
   "cell_type": "markdown",
   "metadata": {},
   "source": [
    "Puede usar merge_pdfs() cuando tiene una lista de archivos PDF que desea fusionar. También necesitará saber dónde guardar el resultado, por lo que esta función toma una lista de rutas de entrada y una ruta de salida. \n",
    "\n"
   ]
  },
  {
   "attachments": {},
   "cell_type": "markdown",
   "metadata": {},
   "source": [
    "Luego recorre las entradas y crea un objeto de lector de PDF para cada una de ellas. A continuación, iterará sobre todas las páginas del archivo PDF y usará addPage() para agregar cada una de esas páginas a sí misma. \n",
    "\n",
    "Una vez que haya terminado de iterar sobre todas las páginas de todos los archivos PDF en su lista, escribirá el resultado al final. Un elemento que me gustaría señalar es que podría mejorar un poco este script agregando un rango de páginas para agregar si no desea fusionar todas las páginas de cada PDF. \n"
   ]
  },
  {
   "attachments": {},
   "cell_type": "markdown",
   "metadata": {},
   "source": [
    "### CÓMO DIVIDIR ARCHIVOS PDF \n",
    "\n",
    "Hay momentos en los que puede tener un PDF que necesita dividir en varios PDF. Esto es especialmente cierto en el caso de los archivos PDF que contienen una gran cantidad de contenido escaneado, pero hay una gran cantidad de buenas razones para querer dividir un PDF. Así es como puede usar PyPDF2 para dividir su PDF en varios archivos:\n"
   ]
  },
  {
   "cell_type": "code",
   "execution_count": null,
   "metadata": {},
   "outputs": [],
   "source": [
    "from PyPDF2 import PdfFileReader, PdfFileWriter\n",
    "\n",
    "\n",
    "def split(path, name_of_split):\n",
    "    pdf = PdfFileReader(path)\n",
    "    for page in range(pdf.getNumPages()):\n",
    "        pdf_writer = PdfFileWriter()\n",
    "        pdf_writer.addPage(pdf.getPage(page))\n",
    "\n",
    "        output = f'{name_of_split}{page}.pdf'\n",
    "        with open(output, 'wb') as output_pdf:\n",
    "            pdf_writer.write(output_pdf)\n",
    "\n",
    "\n",
    "if __name__ == '__main__':\n",
    "    path = 'info.pdf'\n",
    "    split(path, 'info_page')\n"
   ]
  },
  {
   "attachments": {},
   "cell_type": "markdown",
   "metadata": {},
   "source": [
    "En este ejemplo, una vez más crea un objeto de lector de PDF y recorre sus páginas. Para cada página del PDF, creará una nueva instancia de escritor de PDF y le agregará una sola página. Luego, escribirá esa página en un archivo con un nombre único. \n",
    "Cuando la secuencia de comandos termine de ejecutarse, debería tener cada página del PDF original dividida en PDF separados. Ahora tomemos un momento para aprender cómo puede agregar una marca de agua a su PDF.\n"
   ]
  },
  {
   "attachments": {},
   "cell_type": "markdown",
   "metadata": {},
   "source": [
    "### CÓMO AGREGAR MARCAS DE AGUA \n",
    "\n",
    "Las marcas de agua identifican imágenes o patrones en documentos impresos y digitales. Algunas marcas de agua solo se pueden ver en condiciones de iluminación especiales. La razón por la que la marca de agua es importante es que le permite proteger su propiedad intelectual, como sus imágenes o archivos PDF. Otro término para marca de agua es superposición. Puede usar Python y PyPDF2 para marcar con agua sus documentos. Debe tener un PDF que solo contenga su imagen o texto de marca de agua. Aprendamos cómo agregar una marca de agua ahora:\n",
    "\n"
   ]
  },
  {
   "cell_type": "code",
   "execution_count": null,
   "metadata": {},
   "outputs": [],
   "source": [
    "from PyPDF2 import PdfFileWriter, PdfFileReader\n",
    "\n",
    "\n",
    "def create_watermark(input_pdf, output, watermark):\n",
    "    watermark_obj = PdfFileReader(watermark)\n",
    "    watermark_page = watermark_obj.getPage(0)\n",
    "\n",
    "    pdf_reader = PdfFileReader(input_pdf)\n",
    "    pdf_writer = PdfFileWriter()\n",
    "\n",
    "    # Watermark all the pages\n",
    "    for page in range(pdf_reader.getNumPages()):\n",
    "        page = pdf_reader.getPage(page)\n",
    "        page.mergePage(watermark_page)\n",
    "        pdf_writer.addPage(page)\n",
    "\n",
    "    with open(output, 'wb') as out:\n",
    "        pdf_writer.write(out)\n",
    "\n",
    "\n",
    "if __name__ == '__main__':\n",
    "    create_watermark(\n",
    "        input_pdf='info.pdf',\n",
    "        output='watermarked_info.pdf',\n",
    "        watermark='info2.pdf')\n"
   ]
  },
  {
   "attachments": {},
   "cell_type": "markdown",
   "metadata": {},
   "source": [
    "create_watermark() acepta tres argumentos: \n",
    "•\tinput_pdf: la ruta del archivo PDF para la marca de agua \n",
    "•\toutput: la ruta en la que desea guardar la versión con marca de agua del PDF. \n",
    "•\twatermark: un PDF que contiene su imagen o texto de marca de agua \n",
    "En el código, abre el PDF de la marca de agua y toma solo la primera página del documento, ya que es donde debe residir su marca de agua. Luego, crea un objeto lector de PDF utilizando input_pdf y un objeto pdf_writer genérico para escribir el PDF con marca de agua. El siguiente paso es iterar sobre las páginas en input_pdf. Aquí es donde ocurre la magia. Deberá llamar a mergePage() y pasarle la página de marca de agua. Cuando lo haga, se superpondrá la página de marca de agua en la parte superior de la página actual. Luego agrega esa página recién fusionada a su objeto pdf_writer. Finalmente, escribe el PDF con la marca de agua nueva en el disco, \n",
    "\n",
    "### Proteger con contraseña\n",
    "\n",
    "PyPDF2 actualmente solo admite agregar una contraseña de usuario y una contraseña de propietario a un PDF preexistente. En PDF land, una contraseña de propietario básicamente le otorgará privilegios de administrador sobre el PDF y le permitirá establecer permisos en el documento. Por otro lado, la contraseña de usuario solo le permite abrir el documento. Por lo que puedo decir, PyPDF2 en realidad no le permite establecer ningún permiso en el documento, aunque sí le permite establecer la contraseña de propietario. Independientemente, así es como puede agregar una contraseña, que también encriptará el PDF de forma inherente:\n"
   ]
  },
  {
   "cell_type": "code",
   "execution_count": null,
   "metadata": {},
   "outputs": [],
   "source": [
    "from PyPDF2 import PdfFileWriter, PdfFileReader\n",
    "\n",
    "\n",
    "def add_encryption(input_pdf, output_pdf, password):\n",
    "    pdf_writer = PdfFileWriter()\n",
    "    pdf_reader = PdfFileReader(input_pdf)\n",
    "\n",
    "    for page in range(pdf_reader.getNumPages()):\n",
    "        pdf_writer.addPage(pdf_reader.getPage(page))\n",
    "\n",
    "    pdf_writer.encrypt(user_pwd=password, owner_pwd=None, use_128bit=True)\n",
    "\n",
    "    with open(output_pdf, 'wb') as fh:\n",
    "        pdf_writer.write(fh)\n",
    "\n",
    "\n",
    "if __name__ == '__main__':\n",
    "    add_encryption(input_pdf='info.pdf',\n",
    "                   output_pdf='info-encrypted.pdf',\n",
    "                   password='aepi')\n"
   ]
  },
  {
   "attachments": {},
   "cell_type": "markdown",
   "metadata": {},
   "source": [
    "\n",
    "add_encryption() toma las rutas de PDF de entrada y salida, así como la contraseña que desea agregar al PDF. Luego abre un escritor de PDF y un objeto lector, como antes. Dado que querrá cifrar todo el PDF de entrada, deberá recorrer todas sus páginas y agregarlas al escritor. El paso final es llamar a encrypt(), que toma la contraseña del usuario, la contraseña del propietario y si se debe agregar o no el cifrado de 128 bits. El valor predeterminado es que el cifrado de 128 bits esté activado. Si lo establece en Falso, se aplicará en su lugar el cifrado de 40 bits.\n"
   ]
  },
  {
   "attachments": {},
   "cell_type": "markdown",
   "metadata": {},
   "source": [
    "### LEYENDO EL CONTENIDO DE UN PDF\n",
    "\n",
    "Cuando desee extraer texto de un PDF, debe consultar el proyecto PDFMiner en su lugar. PDFMiner es mucho más robusto y fue diseñado específicamente para extraer texto de archivos PDF. Para instalar PDFMiner, debemos usar el siguiente comando:\n",
    "\n",
    "pip install pdfminer\n",
    "\n",
    "Vamos a extraer el texto de un archivo PDF y guardarlo en una variable de python:\n"
   ]
  },
  {
   "cell_type": "code",
   "execution_count": null,
   "metadata": {},
   "outputs": [],
   "source": [
    "from io import StringIO\n",
    "\n",
    "from pdfminer.converter import TextConverter\n",
    "from pdfminer.layout import LAParams\n",
    "from pdfminer.pdfdocument import PDFDocument\n",
    "from pdfminer.pdfinterp import PDFResourceManager, PDFPageInterpreter\n",
    "from pdfminer.pdfpage import PDFPage\n",
    "from pdfminer.pdfparser import PDFParser\n",
    "\n",
    "output_string = StringIO()\n",
    "with open('info.pdf', 'rb') as in_file:\n",
    "    parser = PDFParser(in_file)\n",
    "    doc = PDFDocument(parser)\n",
    "    rsrcmgr = PDFResourceManager()\n",
    "    device = TextConverter(rsrcmgr, output_string, laparams=LAParams())\n",
    "    interpreter = PDFPageInterpreter(rsrcmgr, device)\n",
    "    for page in PDFPage.create_pages(doc):\n",
    "        interpreter.process_page(page)\n",
    "\n",
    "print(output_string.getvalue())\n"
   ]
  },
  {
   "attachments": {},
   "cell_type": "markdown",
   "metadata": {},
   "source": [
    "## Regular expressions"
   ]
  },
  {
   "attachments": {},
   "cell_type": "markdown",
   "metadata": {},
   "source": [
    "## Programación asincrona"
   ]
  },
  {
   "attachments": {},
   "cell_type": "markdown",
   "metadata": {},
   "source": [
    "### Proceso, tarea de proceso y corrutina\n",
    "\n",
    "#### Proceso\n",
    "\n",
    "Un proceso es la ejecución de un conjunto de instrucciones mediante el uso de recursos físicos: los dos principales la memoria RAM, en la que se almacena su entorno de ejecución, y el procesador, que se utiliza para modificarlo. Se trata de una operación extremadamente compleja, en la que intervienen conceptos de programación de sistema muy avanzados. El proceso lo gestiona un planificador de tareas, que depende del sistema operativo. Este último se encarga de exponer recursos (memoria, tiempo de procesador...) y de velar por que cada proceso acceda a sus recursos de manera equitativa. Si existen varios procesadores, los procesos se distribuyen, también, de manera equitativa. \n",
    "\n",
    "Un programa ejecutado por el usuario puede corresponderse con un único proceso o con varios. \n",
    "\n",
    "Un programa se denomina multiproceso cuando crea varios procesos. Pero conviene tener en mente que cada proceso posee su propio entorno de ejecución independiente del resto de los procesos. Este tipo de tecnología es ideal cuando se dispone de varios procesadores.\n",
    "\n",
    "#### Tarea de proceso\n",
    "\n",
    "Presentan las mismas características que un proceso desde el punto de vista del usuario, Una tarea permite ejecutar instrucciones, con la salvedad de que todas utilizan el contexto de ejecución del proceso al que pertenecen, aunque poseen su propia pila de llamadas, vinculada a la ejecución de sus instrucciones.\n",
    "\n",
    "Entre tareas, el paralelismo no es tan real, sino que, por el contrario, es posible concebir una delegación de trabajo hacia tareas secundarias para dar fluidez a la tarea principal y gestionar mejor el tiempo de espera de ciertas tareas, organizándolas. Así las gestiona el sistema operativo.\n",
    "\n",
    "En comparación con el proceso, la tarea es menos costosa, pero más dependiente.\n",
    "\n",
    "#### Corrutina\n",
    "\n",
    "La corrutina se corresponde con una tarea, como una tarea se corresponde con un proceso, como un proceso se corresponde con un núcleo de la CPU. Si en un núcleo de la CPU pueden habitar muchos procesos, en un proceso pueden habitar muchas tareas concurrentes y en una tarea pueden habitar muchas rutinas concurrentes o corrutinas.\n",
    "\n",
    "En comparación con la tarea de un proceso, la corrutina es menos costosa, pero más dependiente.\n"
   ]
  },
  {
   "attachments": {},
   "cell_type": "markdown",
   "metadata": {},
   "source": [
    "### Creación de corrutina\n",
    "\n",
    "Para crear una rutina concurrente se utiliza la sintaxis específica de async/await."
   ]
  },
  {
   "cell_type": "code",
   "execution_count": null,
   "metadata": {},
   "outputs": [],
   "source": [
    "import asyncio\n",
    "\n",
    "async def routine():\n",
    "\n",
    "    print(\"Hello\")\n",
    "    await asyncio.sleep(3)\n",
    "    print(\"async world!\")\n",
    "\n",
    "asyncio.run(routine())\n"
   ]
  },
  {
   "attachments": {},
   "cell_type": "markdown",
   "metadata": {},
   "source": [
    "Nota bene: para que una corrutina se ejecute no es suficiente con invocar la función que la define. Python te ofrece varias formas para que una corrutina se ejecute:\n",
    "\n",
    "•\tLa función asyncio.run()\n",
    "•\tEsperar una corrutina a través de “await”\n",
    "•\tEncapsular las corrutinas en tareas asíncronas con asyncio.create_task() para que se ejecuten concurrentemente al esperarlas.\n",
    "\n",
    "\n",
    "\n"
   ]
  },
  {
   "attachments": {},
   "cell_type": "markdown",
   "metadata": {},
   "source": [
    "### Creación de una tarea de proceso\n",
    "\n",
    "Para crear una tarea, se utiliza el modulo de alto nivel Thread:"
   ]
  },
  {
   "cell_type": "code",
   "execution_count": null,
   "metadata": {},
   "outputs": [],
   "source": [
    "from threading import Thread\n",
    "from time import time, ctime, sleep\n",
    "\n",
    "\n",
    "class Worker(Thread):\n",
    "\n",
    "    def __init__(self, name, delay):\n",
    "        self.delay = delay\n",
    "        Thread.__init__(self, name=name)\n",
    "\n",
    "    def run(self):\n",
    "        for i in range(5):\n",
    "            print(\"%s: Llamada %s, %s\" % (self.getName(), i, ctime(time())))\n",
    "            sleep(self.delay)\n",
    "\n",
    "\n",
    "try:\n",
    "    t1 = Worker(\"T1\", 2)\n",
    "    t2 = Worker(\"T2\", 3)\n",
    "    t1.start()\n",
    "    t2.start()\n",
    "except:\n",
    "    print(\"Error: unable to start threads\")\n"
   ]
  },
  {
   "attachments": {},
   "cell_type": "markdown",
   "metadata": {},
   "source": [
    "Esta tarea realiza una escritura y se pone en espera durante un tiempo determinado. Dicho de otro modo, se crean dos tareas en paralelo, una de dos segundos y otra de tres segundos. \n",
    "\n",
    "Vemos cómo desde el arranque de las dos primeras tareas, toman el control para comenzar la escritura. En la tercera línea, la presencia de tres signos al principio de la línea muestra cómo ha terminado el programa principal y se retoma el control.\n",
    "\n",
    "Por el contrario, las tareas se inician y siguen ejecutándose. Esta forma de operar no es adecuada, porque se crea una ruptura profunda entre las tareas y el flujo principal de instrucciones. \n",
    "\n",
    "Conviene tener en cuenta que, una vez lanzada, no es posible interrumpir una tarea. La única forma de terminarla es que finalice su función run.\n",
    "\n",
    "Es posible experimentar para crear una forma de interrumpirlas, en particular para pedirles que se detengan.\n",
    "\n"
   ]
  },
  {
   "attachments": {},
   "cell_type": "markdown",
   "metadata": {},
   "source": [
    "### Interrupción de una tarea\n",
    "\n",
    "He aquí la tarea anterior con un mecanismo que le permite interrumpirse:"
   ]
  },
  {
   "cell_type": "code",
   "execution_count": null,
   "metadata": {},
   "outputs": [],
   "source": [
    "from threading import Thread\n",
    "from time import time, ctime, sleep\n",
    "\n",
    "\n",
    "class Worker(Thread):\n",
    "\n",
    "    def __init__(self, name, delay):\n",
    "        self.delay = delay\n",
    "        self.job_ended = False\n",
    "        Thread.__init__(self, name=name)\n",
    "\n",
    "    def run(self):\n",
    "        for i in range(10):\n",
    "            if self.job_ended:\n",
    "                print('Deteccion forzada de: %s' % self.getName())\n",
    "                return\n",
    "            print(\"%s: Llamada %s, %s\" % (self.getName(), i, ctime(time())))\n",
    "            sleep(self.delay)\n",
    "        print('Deteccion natural de: %s' % self.getName())\n",
    "\n",
    "\n",
    "try:\n",
    "    t1 = Worker(\"T1\", 2)\n",
    "    t2 = Worker(\"T2\", 3)\n",
    "    t1.start()\n",
    "    t2.start()\n",
    "except:\n",
    "    print(\"Error: unable to start threads\")\n"
   ]
  },
  {
   "attachments": {},
   "cell_type": "markdown",
   "metadata": {},
   "source": [
    "He aquí una nueva tarea, que tiene como objetivo realizar una interrupción tras un tiempo determinado, que recibe como parámetro la lista de tareas sobre las que puede interactuar, junto a un retardo:\n",
    "\n"
   ]
  },
  {
   "cell_type": "code",
   "execution_count": null,
   "metadata": {},
   "outputs": [],
   "source": [
    "from threading import Thread\n",
    "from time import time, ctime, sleep\n",
    "\n",
    "\n",
    "class Worker(Thread):\n",
    "\n",
    "    def __init__(self, name, delay):\n",
    "        self.delay = delay\n",
    "        self.job_ended = False\n",
    "        Thread.__init__(self, name=name)\n",
    "\n",
    "    def run(self):\n",
    "        for i in range(10):\n",
    "            if self.job_ended:\n",
    "                print('Deteccion forzada de: %s' % self.getName())\n",
    "                return\n",
    "            print(\"%s: Llamada %s, %s\" % (self.getName(), i, ctime(time())))\n",
    "            sleep(self.delay)\n",
    "        print('Deteccion natural de: %s' % self.getName())\n",
    "\n",
    "\n",
    "class Stopper(Thread):\n",
    "\n",
    "    def __init__(self, threads, delay):\n",
    "        print('Creacion del stopper')\n",
    "        self.delay = delay\n",
    "        self.threads = threads\n",
    "        Thread.__init__(self)\n",
    "\n",
    "    def run(self):\n",
    "        sleep(self.delay)\n",
    "        print('Solicitud de detencion de las tareas')\n",
    "        for t in self.threads:\n",
    "            t.job_ended = True\n",
    "\n",
    "\n",
    "try:\n",
    "    t1 = Worker(\"T1\", 1)\n",
    "    t2 = Worker(\"T2\", 2)\n",
    "    t3 = Worker(\"T3\", 3)\n",
    "    s = Stopper((t1, t2, t3), 15)\n",
    "    t1.start()\n",
    "    t2.start()\n",
    "    t3.start()\n",
    "    s.start()\n",
    "except:\n",
    "    print(\"Error: unable to start threads\")\n"
   ]
  },
  {
   "attachments": {},
   "cell_type": "markdown",
   "metadata": {},
   "source": [
    "### Gestión de varias tareas\n",
    "\n",
    "Crear varias tareas permite paralelizar diversos trabajos de manera que resulte más rápido que ejecutarlos de forma secuencial.\n",
    "\n",
    "Por ejemplo, cuando se comunica con un servidor, a menudo existe cierta latencia, y la idea es aprovechar el tiempo de espera de una tarea para ejecutar alguna otra. Una vez se han gestionado las acciones, deberíamos ser capaces de retomar el hilo de ejecución principal. Para ello, se utiliza un hilo (Queue, en inglés), al que se vinculan nuestras tareas una vez arrancadas.\n",
    "\n",
    "Por el contrario, si bien el hilo debe incluir las tareas, las tareas también deben apuntar a los hilos para informarles acerca de su trabajo y cuándo ha terminado.\n",
    "\n",
    "Retomando el ejemplo anterior, he aquí cómo modificar nuestro trabajo:\n"
   ]
  },
  {
   "cell_type": "code",
   "execution_count": null,
   "metadata": {},
   "outputs": [],
   "source": [
    "from queue import Queue\n",
    "from threading import Thread\n",
    "from time import time, ctime, sleep\n",
    "\n",
    "\n",
    "class Worker(Thread):\n",
    "\n",
    "    def __init__(self, queue, name, delay):\n",
    "        print(\"Creacion del worker %s\" % name)\n",
    "        self.queue = queue\n",
    "        self.delay = delay\n",
    "        self.job_ended = False\n",
    "        Thread.__init__(self, name=name)\n",
    "\n",
    "    def run(self):\n",
    "        for i in range(5):\n",
    "            if self.job_ended:\n",
    "                print('Deteccion forzada de: %s' % self.getName())\n",
    "                self.queue.task_done()\n",
    "                return\n",
    "            print(\"%s: Llamada %s, %s\" % (self.getName(), i, ctime(time())))\n",
    "            sleep(self.delay)\n",
    "            print('Deteccion natural de: %s' % self.getName())\n",
    "\n",
    "\n",
    "class Stopper(Thread):\n",
    "\n",
    "    def __init__(self, threads, delay):\n",
    "        print('Creacion del stopper')\n",
    "        self.delay = delay\n",
    "        self.threads = threads\n",
    "        Thread.__init__(self)\n",
    "\n",
    "    def run(self):\n",
    "        sleep(self.delay)\n",
    "        print('Solicitud de detencion de las tareas')\n",
    "        for t in self.threads:\n",
    "            t.job_ended = True\n",
    "\n",
    "\n",
    "try:\n",
    "    q = Queue(3)\n",
    "    t1 = Worker(q, \"T1\", 1)\n",
    "    t2 = Worker(q, \"T2\", 2)\n",
    "    t3 = Worker(q, \"T3\", 3)\n",
    "    t1.start()\n",
    "    t2.start()\n",
    "    t3.start()\n",
    "    q.put(t1)\n",
    "    q.put(t2)\n",
    "    q.put(t3)\n",
    "    s = Stopper((t1, t2, t3), 6)\n",
    "    s.start()\n",
    "    print(\"Espera a que terminen las tareas\")\n",
    "    q.join()\n",
    "    print(\"Tareas terminadas, retomamos el flujo principal de instrucciones\")\n",
    "except:\n",
    "    print(\"Error: unable to start threads\")\n"
   ]
  },
  {
   "attachments": {},
   "cell_type": "markdown",
   "metadata": {},
   "source": [
    "### Sincronización\n",
    "\n",
    "\n",
    "En algunos casos, es posible que un recurso o una serie de instrucciones estén compartidos entre varias tareas, pero que necesite estar dedicado a una única tarea cada vez. La resolución de esta problemática se basa en la sincronización de tareas en la sección crítica que se quiere proteger. \n",
    "\n",
    "Para poner de relieve este problema, he aquí un ejemplo que se ejecuta dos veces: la primera sin sincronización y la segunda con ella.\n",
    "\n",
    "Para ello, necesitamos:\n",
    "\n"
   ]
  },
  {
   "cell_type": "code",
   "execution_count": null,
   "metadata": {},
   "outputs": [],
   "source": [
    "from threading import Thread, Lock\n",
    "from queue import Queue\n",
    "from time import time, sleep\n",
    "from io import StringIO\n",
    "\n",
    "# He aquí la función critica:\n",
    "\n",
    "def critical_function(buffer, letter, lock=None):\n",
    "    if lock is not None:\n",
    "        lock.acquire()\n",
    "    for i in range(10):\n",
    "        buffer.write(letter)\n",
    "        sleep(0.1)\n",
    "    buffer.write('\\n')\n",
    "    if lock is not None:\n",
    "        lock.release()\n"
   ]
  },
  {
   "attachments": {},
   "cell_type": "markdown",
   "metadata": {},
   "source": [
    "Se encarga de escribir en un buffer que se comparte entre todas las tareas, salvo que escribe poco a poco (simulando un tiempo de espera necesario para realizar posibles cálculos) y su trabajo termina escribiendo un salto de línea. El código está previsto para estar sincronizado o no, en función del caso de uso. Esta operación de sincronización se realiza utilizando un candado que se solicita y asigna, y a continuación se libera. \n",
    "Todo el código contenido entre estos dos eventos no puede ejecutarse más que una única vez cada vez.\n",
    "\n",
    "He aquí el código correspondiente para la tarea que utiliza la función critica:\n",
    "\n"
   ]
  },
  {
   "cell_type": "code",
   "execution_count": null,
   "metadata": {},
   "outputs": [],
   "source": [
    "class Worker(Thread):\n",
    "\n",
    "    def __init__(self, queue, buffer, letter, lock=None):\n",
    "        self.queue = queue\n",
    "        self.buffer = buffer\n",
    "        self.letter = letter\n",
    "        self.lock = lock\n",
    "        Thread.__init__(self)\n",
    "\n",
    "    def run(self):\n",
    "        for i in range(5):\n",
    "            critical_function(self.buffer, self.letter, self.lock)\n",
    "            sleep(0.1)\n",
    "        self.queue.task_done()\n"
   ]
  },
  {
   "attachments": {},
   "cell_type": "markdown",
   "metadata": {},
   "source": [
    "He aquí el código que crea las tareas, el hilo de espera y que gestiona el candado:"
   ]
  },
  {
   "cell_type": "code",
   "execution_count": null,
   "metadata": {},
   "outputs": [],
   "source": [
    "try:\n",
    "    for lock in (None, Lock()):\n",
    "        buffer = StringIO()\n",
    "        q = Queue(3)\n",
    "        t1 = Worker(q, buffer, \"A\", lock)\n",
    "        t2 = Worker(q, buffer, \"B\", lock)\n",
    "        t3 = Worker(q, buffer, \"C\", lock)\n",
    "        t1.start()\n",
    "        t2.start()\n",
    "        t3.start()\n",
    "        q.put(t1)\n",
    "        q.put(t2)\n",
    "        q.put(t3)\n",
    "        q.join()\n",
    "        print(buffer.getvalue())\n",
    "except:\n",
    "    print(\"Error: unable to start thread\")\n"
   ]
  },
  {
   "attachments": {},
   "cell_type": "markdown",
   "metadata": {},
   "source": [
    "Este candado es, por tanto, un elemento conectado a las tareas y que puede pasarse como parámetro o utilizarse desde un espacio de nombres exterior. "
   ]
  },
  {
   "attachments": {},
   "cell_type": "markdown",
   "metadata": {},
   "source": [
    "He aquí el resultado en el primer caso: \n",
    "\n",
    "ABCABCBACBACABCBACABCBACABCBAC\n",
    "\n",
    "BACABCABCBACABCBACABCBACBACABC\n",
    "\n",
    "Como existe un retardo de espera para cada tarea igual a una décima de segundo con cada operación, es decir, la escritura de una letra (lo cual supone mucho tiempo respecto a la duración de la ejecución de una instrucción), se pasa a la tarea siguiente.\n",
    "\n",
    "Esto se corresponde exactamente con lo que se desea tener.\n",
    "\n",
    "Es importante utilizar este tipo de candado en un contexto paralelo cuando se accede a recursos compartidos tales como un buffer. Incluso si pensamos que nuestro código es lo suficientemente rápido como para que no ocurra ningún problema, no está de más saber utilizar esta solución.\n",
    "\n",
    "El desarrollador debe considerar que, si realiza un desarrollo paralelo, entonces no controla el paso de una tarea a la siguiente; las reglas son particularmente complejas y no necesariamente deterministas. \n",
    "\n",
    "El candado es, por tanto, una buena solución: sencilla, y que puede emplearse en muchos casos prácticos.\n",
    "\n",
    "La sincronización como tal se ha realizado de manera sencilla. Cuando se utiliza el método acquire, se comprueba si el candado está libre. Si no fuera el caso, el método entra en un bucle de espera. Cuando el candado queda libre, entonces el método lo bloquea y toma el control. Esto permite ejecutar las instrucciones siguientes. Una vez terminadas, se libera el candado y sigue el flujo de instrucciones. Es en el cambio de tarea que sigue cuando, en el caso de que exista otra tarea que ya haya invocado al método, acquire terminará su bucle de espera. Existe también una sintaxis más sencilla que permite gestionar el candado:\n"
   ]
  },
  {
   "cell_type": "code",
   "execution_count": null,
   "metadata": {},
   "outputs": [],
   "source": [
    "def critical_funcion2(buffer, letter, lock):\n",
    "    with lock:\n",
    "        for i in range(10):\n",
    "            buffer.write(letter)\n",
    "            sleep(0.1)\n",
    "        buffer.write('\\n')\n"
   ]
  },
  {
   "attachments": {},
   "cell_type": "markdown",
   "metadata": {},
   "source": [
    "Esto permite simplificar la sintaxis y es idéntico al método que utiliza acquire y release. Para terminar, conviene destacar que, cuando se crea un candado, en cualquier caso, es necesario utilizar la menor cantidad de instrucciones posible y liberarlo antes de abordar cualquier otra instrucción, sea cual sea la situación."
   ]
  },
  {
   "attachments": {},
   "cell_type": "markdown",
   "metadata": {},
   "source": [
    "### USO DE PROCESOS\n",
    "\n",
    "GESTIÓN DE UN PROCESO\n",
    "\n",
    "En varios aspectos, vista la interfaz de alto nivel provista por Python, la multitarea es similar al multiproceso. No obstante, las similitudes terminan con el listado de métodos pro puestos por los objetos. Las problemáticas que permiten resolver son más complejas. Su ventaja es que permiten ejecutar dos tareas al mismo tiempo sobre dos procesos distintos y, por tanto, disminuir su tiempo de ejecución.\n",
    "\n",
    "Crear un proceso es relativamente sencillo. He aquí los módulos necesarios:\n"
   ]
  },
  {
   "cell_type": "code",
   "execution_count": null,
   "metadata": {},
   "outputs": [],
   "source": [
    "from multiprocessing import Process, freeze_support\n",
    "from time import sleep\n",
    "\n",
    "# He aquí cómo asociar un trabajo al proceso:\n",
    "\n",
    "def work(name):\n",
    "    print('Inicio del trabajo: %s' % name)\n",
    "    for j in range(10):\n",
    "        for i in range(10):\n",
    "            sleep(0.01)\n",
    "            print('.', sep='', end='')\n",
    "        print('.')\n",
    "    print('Final del trabajo: %s' % name)\n",
    "\n",
    "# A continuación, basta con crear el proceso e iniciarlo:\n",
    "\n",
    "if __name__ == '__main__':\n",
    "    freeze_support()\n",
    "    p = Process(target=work, args=('Test',))\n",
    "    p.start()\n",
    "    p.join()\n",
    "\n"
   ]
  },
  {
   "attachments": {},
   "cell_type": "markdown",
   "metadata": {},
   "source": [
    "### GESTIÓN DE VARIOS PROCESOS\n",
    "\n",
    "SINCRONIZACION\n",
    "\n",
    "Como hemos visto antes, el proceso dispone él mismo del método join, que permite realizar la sincronización.\n",
    "\n",
    "Para crear varios procesos que accedan a un recurso protegido conviene, también, crear un candado, que nos provee el módulo multiprocessing. He aquí un ejemplo:\n"
   ]
  },
  {
   "cell_type": "code",
   "execution_count": null,
   "metadata": {},
   "outputs": [],
   "source": [
    "import sys\n",
    "from multiprocessing.dummy import Process\n",
    "from threading import Lock\n",
    "\n",
    "\n",
    "def work(name, lock):\n",
    "    with lock:\n",
    "        print('Work with %s' % name)\n",
    "        sys.stdout.flush()\n",
    "\n",
    "\n",
    "lock = Lock()\n",
    "for i in range(5):\n",
    "    Process(target=work, args=(i, lock)).start()\n"
   ]
  },
  {
   "attachments": {},
   "cell_type": "markdown",
   "metadata": {},
   "source": [
    "### COMUNICACIÓN ENTRE PROCESOS\n",
    "\n",
    "El módulo multiprocessing posee un objeto dedicado a intercambiar datos entre procesos. Este objeto se crea antes que los procesos. Devuelve dos objetos multiprocessing.Connection:\n",
    "\n",
    "i, o = Pipe ()\n",
    "\n",
    "Cuando uno envía un mensaje, el otro lo recibe:\n",
    "\n",
    "i.send (42) \n",
    "o.recv()\n",
    "\n",
    "42\n",
    "\n",
    "i.send ('Hello') \n",
    "o.recv()\n",
    "\n",
    "'Hello'\n",
    "\n",
    "Si se envían dos mensajes, se reciben de manera secuencial:\n",
    "\n",
    "i.send (42)\n",
    "i.send('Hello')\n",
    "o.recv()\n",
    "\n",
    "42\n",
    "\n",
    "o.recv() \n",
    "\n",
    "'Hello'\n",
    "\n",
    "Cuando se inicia una recepción sin disponer de datos, se queda en espera:\n",
    "\n",
    "o.recv()\n",
    "\n",
    "^cTraceback (most recent call last): \n",
    "File \"<stdin>\", line 1, in <module>\n",
    "KeyboardInterrupt\n",
    "\n",
    "Esto es exactamente lo que vamos a hacer para iniciar un proceso que escribe y otro que lee. Este último se inicia antes y se queda esperando al segundo:\n",
    "\n"
   ]
  },
  {
   "cell_type": "code",
   "execution_count": null,
   "metadata": {},
   "outputs": [],
   "source": [
    "from multiprocessing import Pipe\n",
    "from multiprocessing.dummy import Process\n",
    "\n",
    "\n",
    "def reader(o):\n",
    "    while True:\n",
    "        data = o.recv()\n",
    "        print(data)\n",
    "        if data == '#':\n",
    "            return\n",
    "\n",
    "\n",
    "def writer(i):\n",
    "    for data in ['Mensaje', 42, '#']:\n",
    "        i.send(data)\n",
    "\n",
    "\n",
    "i, o = Pipe()\n",
    "pr = Process(target=reader, args=(o,))\n",
    "pr.start()\n",
    "pw = Process(target=writer, args=(i,))\n",
    "pw.start()\n",
    "pw.join()\n",
    "pr.join()\n"
   ]
  },
  {
   "attachments": {},
   "cell_type": "markdown",
   "metadata": {},
   "source": [
    "### COMPARTIR DATOS ENTRE PROCESOS\n",
    "\n",
    "Más allá de la comunicación entre procesos es necesario, en ocasiones, compartir datos entre varios procesos. Esta operación es muy particular y, por razones técnicas, deben utilizarse tipos C. \n",
    "\n"
   ]
  },
  {
   "cell_type": "code",
   "execution_count": null,
   "metadata": {},
   "outputs": [],
   "source": [
    "import multiprocessing\n",
    "\n",
    "\n",
    "def func(num):\n",
    "    # El proceso hijo cambia el valor y el proceso principal cambia en consecuencia\n",
    "    num.value = 10.78\n",
    "\n",
    "\n",
    "if __name__ == \"__main__\":\n",
    "    ''' d representa un valor, el proceso principal y el proceso hijo comparten este valor. \n",
    "    (El proceso principal y el proceso hijo usan el mismo valor)'''\n",
    "    num = multiprocessing.Value(\"d\", 10.0)\n",
    "    print(num.value)\n",
    "    p = multiprocessing.Process(target=func, args=(num,))\n",
    "    p.start()\n",
    "    p.join()\n",
    "    print(num.value)\n",
    "\n"
   ]
  },
  {
   "cell_type": "code",
   "execution_count": null,
   "metadata": {},
   "outputs": [],
   "source": [
    "import multiprocessing\n",
    "import ctypes\n",
    "\n",
    "\n",
    "def func(num):\n",
    "    # El proceso hijo cambia la matriz y el proceso principal cambia en consecuencia\n",
    "    num[2] = 9999\n",
    "\n",
    "\n",
    "if __name__ == \"__main__\":\n",
    "    # El proceso principal y el proceso hijo comparten esta matriz\n",
    "    num = multiprocessing.Array(ctypes.c_int, [1, 2, 3, 4, 5])\n",
    "    print(num[:])\n",
    "\n",
    "    p = multiprocessing.Process(target=func, args=(num,))\n",
    "    p.start()\n",
    "    p.join()\n",
    "\n",
    "    print(num[:])\n",
    "\n"
   ]
  },
  {
   "attachments": {},
   "cell_type": "markdown",
   "metadata": {},
   "source": [
    "Los tipos de datos nativos admitidos por ctypes son los siguientes:\n",
    "\n",
    "tipo de ctypes\tTipo C\tTipo de Python\n",
    "\n",
    "c_char\tchar\t1-character string\n",
    "\n",
    "c_wchar\twchar_t\t1-character unicode string\n",
    "\n",
    "c_byte\tchar\tint/long\n",
    "\n",
    "c_ubyte\tunsigned char\tint/long\n",
    "\n",
    "c_bool\tbool\tbool\n",
    "\n",
    "c_short\tshort\tint/long\n",
    "\n",
    "c_ushort\tunsigned short\tint/long\n",
    "\n",
    "c_int\tint\tint/long\n",
    "\n",
    "c_uint\tunsigned int\tint/long\n",
    "\n",
    "c_long\tlong\tint/long\n",
    "\n",
    "c_ulong\tunsigned long\tint/long\n",
    "\n",
    "c_longlong\t__int64 or longlong\tint/long\n",
    "\n",
    "c_ulonglong\tunsigned __int64 or unsigned long long\tint/long\n",
    "\n",
    "c_float\tfloat\tfloat\n",
    "\n",
    "c_double\tdouble\tfloat\n",
    "\n",
    "c_longdouble\tlong double float\tfloat\n",
    "\n",
    "c_char_p\tchar *\tstring or None\n",
    "\n",
    "c_wchar_p\twchar_t *\tunicode or None\n",
    "\n",
    "c_void_p\tvoid *\tint/long or None\n"
   ]
  },
  {
   "attachments": {},
   "cell_type": "markdown",
   "metadata": {},
   "source": [
    "### COMPARTIR DATOS ENTRE PROCESOS (DICT, LIST):\n",
    "\n",
    "```\n",
    "import multiprocessing\n",
    "\n",
    "\n",
    "def func(mydict, mylist):\n",
    "    # El proceso hijo cambia el dictado y el proceso principal cambia en consecuencia\n",
    "    mydict[\"index1\"] = \"aaaaaa\"\n",
    "    mydict[\"index2\"] = \"bbbbbb\"\n",
    "    # El proceso hijo cambia la Lista y el proceso principal cambia en consecuencia\n",
    "    mylist.append(11)\n",
    "    mylist.append(22)\n",
    "    mylist.append(33)\n",
    "\n",
    "\n",
    "if __name__ == \"__main__\":\n",
    "    with multiprocessing.Manager() as MG:  # Rebautizar\n",
    "        # El proceso principal y el proceso hijo comparten este diccionario\n",
    "        mydict = multiprocessing.Manager().dict()\n",
    "        # El proceso principal y el proceso hijo comparten esta lista\n",
    "        mylist = multiprocessing.Manager().list(range(5))\n",
    "\n",
    "        p = multiprocessing.Process(target=func, args=(mydict, mylist))\n",
    "        p.start()\n",
    "        p.join()\n",
    "\n",
    "        print(mylist)\n",
    "        print(mydict\n",
    "```"
   ]
  }
 ],
 "metadata": {
  "kernelspec": {
   "display_name": "base",
   "language": "python",
   "name": "python3"
  },
  "language_info": {
   "codemirror_mode": {
    "name": "ipython",
    "version": 3
   },
   "file_extension": ".py",
   "mimetype": "text/x-python",
   "name": "python",
   "nbconvert_exporter": "python",
   "pygments_lexer": "ipython3",
   "version": "3.9.12"
  },
  "orig_nbformat": 4
 },
 "nbformat": 4,
 "nbformat_minor": 2
}
